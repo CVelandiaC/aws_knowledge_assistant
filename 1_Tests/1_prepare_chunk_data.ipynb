{
 "cells": [
  {
   "cell_type": "markdown",
   "metadata": {},
   "source": [
    "# Dataset for embeddings Creation\n",
    "\n",
    "**Author:** Cristian C. Velandia C.\n",
    "\n",
    "**Creation Date:** 2024-03-02\n",
    "\n",
    "This notebook aims to create a dataset stored in parquet with the necessary data to create the embeddings and after upsert to pinecone VDB. \n",
    "\n",
    "Data is cleaned before the embeddings process"
   ]
  },
  {
   "cell_type": "code",
   "execution_count": 1,
   "metadata": {},
   "outputs": [],
   "source": [
    "from langchain_community.document_loaders import DirectoryLoader\n",
    "from langchain_text_splitters import MarkdownHeaderTextSplitter\n",
    "from langchain.document_loaders import TextLoader\n",
    "import pandas as pd"
   ]
  },
  {
   "cell_type": "markdown",
   "metadata": {},
   "source": [
    "---\n",
    "## Data Loading"
   ]
  },
  {
   "cell_type": "code",
   "execution_count": 2,
   "metadata": {},
   "outputs": [
    {
     "name": "stderr",
     "output_type": "stream",
     "text": [
      "  0%|          | 0/336 [00:00<?, ?it/s]"
     ]
    },
    {
     "name": "stderr",
     "output_type": "stream",
     "text": [
      "100%|██████████| 336/336 [00:00<00:00, 600.44it/s]\n"
     ]
    }
   ],
   "source": [
    "markdown_path2 = \"D:\\\\Documents\\GitHub\\\\knowledge_pal_assistant\\\\0_data\"\n",
    "# Define the directory loader, be carefull with use_multithreading as it will output the files in different order every time\n",
    "data4 = DirectoryLoader(markdown_path2, glob = \"*.md\", recursive = True, loader_cls = TextLoader, use_multithreading = True, show_progress = True, sample_seed = 1).load()"
   ]
  },
  {
   "cell_type": "code",
   "execution_count": 3,
   "metadata": {},
   "outputs": [
    {
     "data": {
      "text/plain": [
       "'D:\\\\Documents\\\\GitHub\\\\knowledge_pal_assistant\\\\0_data\\\\aws-properties-events-rule-sagemakerpipelineparameter.md'"
      ]
     },
     "execution_count": 3,
     "metadata": {},
     "output_type": "execute_result"
    }
   ],
   "source": [
    "data4[0].metadata[\"source\"]"
   ]
  },
  {
   "cell_type": "code",
   "execution_count": 4,
   "metadata": {},
   "outputs": [
    {
     "data": {
      "text/plain": [
       "336"
      ]
     },
     "execution_count": 4,
     "metadata": {},
     "output_type": "execute_result"
    }
   ],
   "source": [
    "len(data4)"
   ]
  },
  {
   "cell_type": "markdown",
   "metadata": {},
   "source": [
    "---\n",
    "Data Chunking and cleaning"
   ]
  },
  {
   "cell_type": "code",
   "execution_count": 5,
   "metadata": {},
   "outputs": [],
   "source": [
    "# Create a hashmap of documents to after add the source to each one of the chunks\n",
    "final_data = {x.metadata[\"source\"]: x.page_content for x in data4}"
   ]
  },
  {
   "cell_type": "code",
   "execution_count": 6,
   "metadata": {},
   "outputs": [
    {
     "data": {
      "text/plain": [
       "336"
      ]
     },
     "execution_count": 6,
     "metadata": {},
     "output_type": "execute_result"
    }
   ],
   "source": [
    "len(final_data)"
   ]
  },
  {
   "cell_type": "code",
   "execution_count": 7,
   "metadata": {},
   "outputs": [
    {
     "data": {
      "text/plain": [
       "'# AWS::Events::Rule SageMakerPipelineParameter<a name=\"aws-properties-events-rule-sagemakerpipelineparameter\"></a>\\n\\nName/Value pair of a parameter to start execution of a SageMaker Model Building Pipeline\\\\.\\n\\n## Syntax<a name=\"aws-properties-events-rule-sagemakerpipelineparameter-syntax\"></a>\\n\\nTo declare this entity in your AWS CloudFormation template, use the following syntax:\\n\\n### JSON<a name=\"aws-properties-events-rule-sagemakerpipelineparameter-syntax.json\"></a>\\n\\n```\\n{\\n  \"[Name](#cfn-events-rule-sagemakerpipelineparameter-name)\" : String,\\n  \"[Value](#cfn-events-rule-sagemakerpipelineparameter-value)\" : String\\n}\\n```\\n\\n### YAML<a name=\"aws-properties-events-rule-sagemakerpipelineparameter-syntax.yaml\"></a>\\n\\n```\\n  [Name](#cfn-events-rule-sagemakerpipelineparameter-name): String\\n  [Value](#cfn-events-rule-sagemakerpipelineparameter-value): String\\n```\\n\\n## Properties<a name=\"aws-properties-events-rule-sagemakerpipelineparameter-properties\"></a>\\n\\n`Name`  <a name=\"cfn-events-rule-sagemakerpipelineparameter-name\"></a>\\nName of parameter to start execution of a SageMaker Model Building Pipeline\\\\.  \\n*Required*: Yes  \\n*Type*: String  \\n*Minimum*: `1`  \\n*Maximum*: `256`  \\n*Pattern*: `^[a-zA-Z0-9](-*[a-zA-Z0-9])*$`  \\n*Update requires*: [No interruption](https://docs.aws.amazon.com/AWSCloudFormation/latest/UserGuide/using-cfn-updating-stacks-update-behaviors.html#update-no-interrupt)\\n\\n`Value`  <a name=\"cfn-events-rule-sagemakerpipelineparameter-value\"></a>\\nValue of parameter to start execution of a SageMaker Model Building Pipeline\\\\.  \\n*Required*: Yes  \\n*Type*: String  \\n*Maximum*: `1024`  \\n*Update requires*: [No interruption](https://docs.aws.amazon.com/AWSCloudFormation/latest/UserGuide/using-cfn-updating-stacks-update-behaviors.html#update-no-interrupt)'"
      ]
     },
     "execution_count": 7,
     "metadata": {},
     "output_type": "execute_result"
    }
   ],
   "source": [
    "#Check results\n",
    "final_data[data4[0].metadata[\"source\"]]"
   ]
  },
  {
   "cell_type": "code",
   "execution_count": 8,
   "metadata": {},
   "outputs": [],
   "source": [
    "# Define over which headers the data will be split and chunked\n",
    "headers_to_split_on = [(\"#\", \"Header 1\"), (\"##\", \"Header 2\")]\n",
    "# Define the splitter object\n",
    "markdown_splitter = MarkdownHeaderTextSplitter(headers_to_split_on=headers_to_split_on, strip_headers = False)"
   ]
  },
  {
   "cell_type": "code",
   "execution_count": 9,
   "metadata": {},
   "outputs": [],
   "source": [
    "md_header_splits = [] #Define an empty list to extend with all the corpus\n",
    "\n",
    "# Go through all sources and doocuments\n",
    "for id, (source, docs) in enumerate(final_data.items()):\n",
    "    md_header_splits.extend([{\"id\": id, \"chunk\": i, \"page_content\": chunk.page_content + \"\\n \\'data source =  {0}\\'\".format(source), \"source\" : source , \"metadata\" : chunk.metadata} for i, chunk in enumerate(markdown_splitter.split_text(docs))])"
   ]
  },
  {
   "cell_type": "code",
   "execution_count": 10,
   "metadata": {},
   "outputs": [
    {
     "data": {
      "text/plain": [
       "1046"
      ]
     },
     "execution_count": 10,
     "metadata": {},
     "output_type": "execute_result"
    }
   ],
   "source": [
    "len(md_header_splits)"
   ]
  },
  {
   "cell_type": "code",
   "execution_count": 11,
   "metadata": {},
   "outputs": [
    {
     "data": {
      "text/plain": [
       "{'id': 0,\n",
       " 'chunk': 0,\n",
       " 'page_content': '# AWS::Events::Rule SageMakerPipelineParameter<a name=\"aws-properties-events-rule-sagemakerpipelineparameter\"></a>  \\nName/Value pair of a parameter to start execution of a SageMaker Model Building Pipeline\\\\.\\n \\'data source =  D:\\\\Documents\\\\GitHub\\\\knowledge_pal_assistant\\\\0_data\\\\aws-properties-events-rule-sagemakerpipelineparameter.md\\'',\n",
       " 'source': 'D:\\\\Documents\\\\GitHub\\\\knowledge_pal_assistant\\\\0_data\\\\aws-properties-events-rule-sagemakerpipelineparameter.md',\n",
       " 'metadata': {'Header 1': 'AWS::Events::Rule SageMakerPipelineParameter<a name=\"aws-properties-events-rule-sagemakerpipelineparameter\"></a>'}}"
      ]
     },
     "execution_count": 11,
     "metadata": {},
     "output_type": "execute_result"
    }
   ],
   "source": [
    "md_header_splits[0]"
   ]
  },
  {
   "cell_type": "code",
   "execution_count": 12,
   "metadata": {},
   "outputs": [],
   "source": [
    "#Create a dataframe from the list of dicts to store data, deduplicate, and clean the chunks\n",
    "final_df = pd.DataFrame(md_header_splits)"
   ]
  },
  {
   "cell_type": "code",
   "execution_count": 13,
   "metadata": {},
   "outputs": [],
   "source": [
    "# OPTIONAL CLEAN STOPWORDS \n",
    "from nltk.corpus import stopwords\n",
    "from nltk.tokenize import word_tokenize\n",
    "#from nltk import download\n",
    "#download('stopwords')\n",
    "\n",
    "stop_words = set(stopwords.words('english'))\n",
    "#generate tokens\n",
    "final_df[\"tokens\"] = final_df[\"page_content\"].apply(lambda x: word_tokenize(x))\n",
    "#Remove Stop words\n",
    "final_df[\"nostopw_page_content\"] = final_df[\"tokens\"].apply(lambda x: \" \".join([w for w in x if not w.lower() in stop_words]))"
   ]
  },
  {
   "cell_type": "code",
   "execution_count": 14,
   "metadata": {},
   "outputs": [
    {
     "data": {
      "text/html": [
       "<div>\n",
       "<style scoped>\n",
       "    .dataframe tbody tr th:only-of-type {\n",
       "        vertical-align: middle;\n",
       "    }\n",
       "\n",
       "    .dataframe tbody tr th {\n",
       "        vertical-align: top;\n",
       "    }\n",
       "\n",
       "    .dataframe thead th {\n",
       "        text-align: right;\n",
       "    }\n",
       "</style>\n",
       "<table border=\"1\" class=\"dataframe\">\n",
       "  <thead>\n",
       "    <tr style=\"text-align: right;\">\n",
       "      <th></th>\n",
       "      <th>id</th>\n",
       "      <th>chunk</th>\n",
       "      <th>page_content</th>\n",
       "      <th>source</th>\n",
       "      <th>metadata</th>\n",
       "      <th>tokens</th>\n",
       "      <th>nostopw_page_content</th>\n",
       "    </tr>\n",
       "  </thead>\n",
       "  <tbody>\n",
       "    <tr>\n",
       "      <th>0</th>\n",
       "      <td>0</td>\n",
       "      <td>0</td>\n",
       "      <td># AWS::Events::Rule SageMakerPipelineParameter...</td>\n",
       "      <td>D:\\Documents\\GitHub\\knowledge_pal_assistant\\0_...</td>\n",
       "      <td>{'Header 1': 'AWS::Events::Rule SageMakerPipel...</td>\n",
       "      <td>[#, AWS, :, :Events, :, :Rule, SageMakerPipeli...</td>\n",
       "      <td># AWS : :Events : :Rule SageMakerPipelineParam...</td>\n",
       "    </tr>\n",
       "    <tr>\n",
       "      <th>1</th>\n",
       "      <td>0</td>\n",
       "      <td>1</td>\n",
       "      <td>## Syntax&lt;a name=\"aws-properties-events-rule-s...</td>\n",
       "      <td>D:\\Documents\\GitHub\\knowledge_pal_assistant\\0_...</td>\n",
       "      <td>{'Header 1': 'AWS::Events::Rule SageMakerPipel...</td>\n",
       "      <td>[#, #, Syntax, &lt;, a, name=, '', aws-properties...</td>\n",
       "      <td># # Syntax &lt; name= '' aws-properties-events-ru...</td>\n",
       "    </tr>\n",
       "    <tr>\n",
       "      <th>2</th>\n",
       "      <td>0</td>\n",
       "      <td>2</td>\n",
       "      <td>## Properties&lt;a name=\"aws-properties-events-ru...</td>\n",
       "      <td>D:\\Documents\\GitHub\\knowledge_pal_assistant\\0_...</td>\n",
       "      <td>{'Header 1': 'AWS::Events::Rule SageMakerPipel...</td>\n",
       "      <td>[#, #, Properties, &lt;, a, name=, '', aws-proper...</td>\n",
       "      <td># # Properties &lt; name= '' aws-properties-event...</td>\n",
       "    </tr>\n",
       "    <tr>\n",
       "      <th>3</th>\n",
       "      <td>1</td>\n",
       "      <td>0</td>\n",
       "      <td># Automating Amazon SageMaker with Amazon Even...</td>\n",
       "      <td>D:\\Documents\\GitHub\\knowledge_pal_assistant\\0_...</td>\n",
       "      <td>{'Header 1': 'Automating Amazon SageMaker with...</td>\n",
       "      <td>[#, Automating, Amazon, SageMaker, with, Amazo...</td>\n",
       "      <td># Automating Amazon SageMaker Amazon EventBrid...</td>\n",
       "    </tr>\n",
       "    <tr>\n",
       "      <th>4</th>\n",
       "      <td>1</td>\n",
       "      <td>1</td>\n",
       "      <td>## Training job state change&lt;a name=\"eventbrid...</td>\n",
       "      <td>D:\\Documents\\GitHub\\knowledge_pal_assistant\\0_...</td>\n",
       "      <td>{'Header 1': 'Automating Amazon SageMaker with...</td>\n",
       "      <td>[#, #, Training, job, state, change, &lt;, a, nam...</td>\n",
       "      <td># # Training job state change &lt; name= '' event...</td>\n",
       "    </tr>\n",
       "  </tbody>\n",
       "</table>\n",
       "</div>"
      ],
      "text/plain": [
       "   id  chunk                                       page_content  \\\n",
       "0   0      0  # AWS::Events::Rule SageMakerPipelineParameter...   \n",
       "1   0      1  ## Syntax<a name=\"aws-properties-events-rule-s...   \n",
       "2   0      2  ## Properties<a name=\"aws-properties-events-ru...   \n",
       "3   1      0  # Automating Amazon SageMaker with Amazon Even...   \n",
       "4   1      1  ## Training job state change<a name=\"eventbrid...   \n",
       "\n",
       "                                              source  \\\n",
       "0  D:\\Documents\\GitHub\\knowledge_pal_assistant\\0_...   \n",
       "1  D:\\Documents\\GitHub\\knowledge_pal_assistant\\0_...   \n",
       "2  D:\\Documents\\GitHub\\knowledge_pal_assistant\\0_...   \n",
       "3  D:\\Documents\\GitHub\\knowledge_pal_assistant\\0_...   \n",
       "4  D:\\Documents\\GitHub\\knowledge_pal_assistant\\0_...   \n",
       "\n",
       "                                            metadata  \\\n",
       "0  {'Header 1': 'AWS::Events::Rule SageMakerPipel...   \n",
       "1  {'Header 1': 'AWS::Events::Rule SageMakerPipel...   \n",
       "2  {'Header 1': 'AWS::Events::Rule SageMakerPipel...   \n",
       "3  {'Header 1': 'Automating Amazon SageMaker with...   \n",
       "4  {'Header 1': 'Automating Amazon SageMaker with...   \n",
       "\n",
       "                                              tokens  \\\n",
       "0  [#, AWS, :, :Events, :, :Rule, SageMakerPipeli...   \n",
       "1  [#, #, Syntax, <, a, name=, '', aws-properties...   \n",
       "2  [#, #, Properties, <, a, name=, '', aws-proper...   \n",
       "3  [#, Automating, Amazon, SageMaker, with, Amazo...   \n",
       "4  [#, #, Training, job, state, change, <, a, nam...   \n",
       "\n",
       "                                nostopw_page_content  \n",
       "0  # AWS : :Events : :Rule SageMakerPipelineParam...  \n",
       "1  # # Syntax < name= '' aws-properties-events-ru...  \n",
       "2  # # Properties < name= '' aws-properties-event...  \n",
       "3  # Automating Amazon SageMaker Amazon EventBrid...  \n",
       "4  # # Training job state change < name= '' event...  "
      ]
     },
     "execution_count": 14,
     "metadata": {},
     "output_type": "execute_result"
    }
   ],
   "source": [
    "final_df.head()"
   ]
  },
  {
   "cell_type": "code",
   "execution_count": 15,
   "metadata": {},
   "outputs": [
    {
     "data": {
      "text/plain": [
       "0    {'Header 1': 'AWS::Events::Rule SageMakerPipel...\n",
       "1    {'Header 1': 'AWS::Events::Rule SageMakerPipel...\n",
       "2    {'Header 1': 'AWS::Events::Rule SageMakerPipel...\n",
       "3    {'Header 1': 'Automating Amazon SageMaker with...\n",
       "4    {'Header 1': 'Automating Amazon SageMaker with...\n",
       "Name: metadata, dtype: object"
      ]
     },
     "execution_count": 15,
     "metadata": {},
     "output_type": "execute_result"
    }
   ],
   "source": [
    "#add chunk and source to meta \n",
    "final_df[\"metadata\"] = final_df.loc[:, [\"chunk\", \"source\", \"metadata\", \"page_content\"]].apply(lambda x:  {**x[\"metadata\"],**{\"chunk\" : x[\"chunk\"], \"source\" : x[\"source\"], \"text\" : x[\"page_content\"]}}, axis=1)\n",
    "final_df[\"metadata\"].head()\n"
   ]
  },
  {
   "cell_type": "code",
   "execution_count": 16,
   "metadata": {},
   "outputs": [
    {
     "data": {
      "text/plain": [
       "{'Header 1': 'Automating Amazon SageMaker with Amazon EventBridge<a name=\"automating-sagemaker-with-eventbridge\"></a>',\n",
       " 'Header 2': 'Training job state change<a name=\"eventbridge-training\"></a>',\n",
       " 'chunk': 1,\n",
       " 'source': 'D:\\\\Documents\\\\GitHub\\\\knowledge_pal_assistant\\\\0_data\\\\automating-sagemaker-with-eventbridge.md',\n",
       " 'text': '## Training job state change<a name=\"eventbridge-training\"></a>  \\nIndicates a change in the status of a SageMaker training job\\\\.  \\nIf the value of `TrainingJobStatus` is `Failed`, the event contains the `FailureReason` field, which provides a description of why the training job failed\\\\.  \\n```\\n{\\n\"version\": \"0\",\\n\"id\": \"844e2571-85d4-695f-b930-0153b71dcb42\",\\n\"detail-type\": \"SageMaker Training Job State Change\",\\n\"source\": \"aws.sagemaker\",\\n\"account\": \"123456789012\",\\n\"time\": \"2018-10-06T12:26:13Z\",\\n\"region\": \"us-east-1\",\\n\"resources\": [\\n\"arn:aws:sagemaker:us-east-1:123456789012:training-job/kmeans-1\"\\n],\\n\"detail\": {\\n\"TrainingJobName\": \"89c96cc8-dded-4739-afcc-6f1dc936701d\",\\n\"TrainingJobArn\": \"arn:aws:sagemaker:us-east-1:123456789012:training-job/kmeans-1\",\\n\"TrainingJobStatus\": \"Completed\",\\n\"SecondaryStatus\": \"Completed\",\\n\"HyperParameters\": {\\n\"Hyper\": \"Parameters\"\\n},\\n\"AlgorithmSpecification\": {\\n\"TrainingImage\": \"TrainingImage\",\\n\"TrainingInputMode\": \"TrainingInputMode\"\\n},\\n\"RoleArn\": \"arn:aws:iam::123456789012:role/SMRole\",\\n\"InputDataConfig\": [\\n{\\n\"ChannelName\": \"Train\",\\n\"DataSource\": {\\n\"S3DataSource\": {\\n\"S3DataType\": \"S3DataType\",\\n\"S3Uri\": \"S3Uri\",\\n\"S3DataDistributionType\": \"S3DataDistributionType\"\\n}\\n},\\n\"ContentType\": \"ContentType\",\\n\"CompressionType\": \"CompressionType\",\\n\"RecordWrapperType\": \"RecordWrapperType\"\\n}\\n],\\n\"OutputDataConfig\": {\\n\"KmsKeyId\": \"KmsKeyId\",\\n\"S3OutputPath\": \"S3OutputPath\"\\n},\\n\"ResourceConfig\": {\\n\"InstanceType\": \"InstanceType\",\\n\"InstanceCount\": 3,\\n\"VolumeSizeInGB\": 20,\\n\"VolumeKmsKeyId\": \"VolumeKmsKeyId\"\\n},\\n\"VpcConfig\": {\\n\\n},\\n\"StoppingCondition\": {\\n\"MaxRuntimeInSeconds\": 60\\n},\\n\"CreationTime\": \"1583831889050\",\\n\"TrainingStartTime\": \"1583831889050\",\\n\"TrainingEndTime\": \"1583831889050\",\\n\"LastModifiedTime\": \"1583831889050\",\\n\"SecondaryStatusTransitions\": [\\n\\n],\\n\"Tags\": {\\n\\n}\\n}\\n}\\n```\\n \\'data source =  D:\\\\Documents\\\\GitHub\\\\knowledge_pal_assistant\\\\0_data\\\\automating-sagemaker-with-eventbridge.md\\''}"
      ]
     },
     "execution_count": 16,
     "metadata": {},
     "output_type": "execute_result"
    }
   ],
   "source": [
    "final_df[\"metadata\"][4]"
   ]
  },
  {
   "cell_type": "code",
   "execution_count": 17,
   "metadata": {},
   "outputs": [
    {
     "data": {
      "text/html": [
       "<div>\n",
       "<style scoped>\n",
       "    .dataframe tbody tr th:only-of-type {\n",
       "        vertical-align: middle;\n",
       "    }\n",
       "\n",
       "    .dataframe tbody tr th {\n",
       "        vertical-align: top;\n",
       "    }\n",
       "\n",
       "    .dataframe thead th {\n",
       "        text-align: right;\n",
       "    }\n",
       "</style>\n",
       "<table border=\"1\" class=\"dataframe\">\n",
       "  <thead>\n",
       "    <tr style=\"text-align: right;\">\n",
       "      <th></th>\n",
       "      <th>id</th>\n",
       "      <th>chunk</th>\n",
       "      <th>page_content</th>\n",
       "      <th>source</th>\n",
       "      <th>metadata</th>\n",
       "      <th>tokens</th>\n",
       "      <th>nostopw_page_content</th>\n",
       "    </tr>\n",
       "  </thead>\n",
       "  <tbody>\n",
       "    <tr>\n",
       "      <th>0</th>\n",
       "      <td>0</td>\n",
       "      <td>0</td>\n",
       "      <td># AWS::Events::Rule SageMakerPipelineParameter...</td>\n",
       "      <td>D:\\Documents\\GitHub\\knowledge_pal_assistant\\0_...</td>\n",
       "      <td>{'Header 1': 'AWS::Events::Rule SageMakerPipel...</td>\n",
       "      <td>[#, AWS, :, :Events, :, :Rule, SageMakerPipeli...</td>\n",
       "      <td># AWS : :Events : :Rule SageMakerPipelineParam...</td>\n",
       "    </tr>\n",
       "    <tr>\n",
       "      <th>1</th>\n",
       "      <td>0</td>\n",
       "      <td>1</td>\n",
       "      <td>## Syntax&lt;a name=\"aws-properties-events-rule-s...</td>\n",
       "      <td>D:\\Documents\\GitHub\\knowledge_pal_assistant\\0_...</td>\n",
       "      <td>{'Header 1': 'AWS::Events::Rule SageMakerPipel...</td>\n",
       "      <td>[#, #, Syntax, &lt;, a, name=, '', aws-properties...</td>\n",
       "      <td># # Syntax &lt; name= '' aws-properties-events-ru...</td>\n",
       "    </tr>\n",
       "    <tr>\n",
       "      <th>2</th>\n",
       "      <td>0</td>\n",
       "      <td>2</td>\n",
       "      <td>## Properties&lt;a name=\"aws-properties-events-ru...</td>\n",
       "      <td>D:\\Documents\\GitHub\\knowledge_pal_assistant\\0_...</td>\n",
       "      <td>{'Header 1': 'AWS::Events::Rule SageMakerPipel...</td>\n",
       "      <td>[#, #, Properties, &lt;, a, name=, '', aws-proper...</td>\n",
       "      <td># # Properties &lt; name= '' aws-properties-event...</td>\n",
       "    </tr>\n",
       "  </tbody>\n",
       "</table>\n",
       "</div>"
      ],
      "text/plain": [
       "   id  chunk                                       page_content  \\\n",
       "0   0      0  # AWS::Events::Rule SageMakerPipelineParameter...   \n",
       "1   0      1  ## Syntax<a name=\"aws-properties-events-rule-s...   \n",
       "2   0      2  ## Properties<a name=\"aws-properties-events-ru...   \n",
       "\n",
       "                                              source  \\\n",
       "0  D:\\Documents\\GitHub\\knowledge_pal_assistant\\0_...   \n",
       "1  D:\\Documents\\GitHub\\knowledge_pal_assistant\\0_...   \n",
       "2  D:\\Documents\\GitHub\\knowledge_pal_assistant\\0_...   \n",
       "\n",
       "                                            metadata  \\\n",
       "0  {'Header 1': 'AWS::Events::Rule SageMakerPipel...   \n",
       "1  {'Header 1': 'AWS::Events::Rule SageMakerPipel...   \n",
       "2  {'Header 1': 'AWS::Events::Rule SageMakerPipel...   \n",
       "\n",
       "                                              tokens  \\\n",
       "0  [#, AWS, :, :Events, :, :Rule, SageMakerPipeli...   \n",
       "1  [#, #, Syntax, <, a, name=, '', aws-properties...   \n",
       "2  [#, #, Properties, <, a, name=, '', aws-proper...   \n",
       "\n",
       "                                nostopw_page_content  \n",
       "0  # AWS : :Events : :Rule SageMakerPipelineParam...  \n",
       "1  # # Syntax < name= '' aws-properties-events-ru...  \n",
       "2  # # Properties < name= '' aws-properties-event...  "
      ]
     },
     "execution_count": 17,
     "metadata": {},
     "output_type": "execute_result"
    }
   ],
   "source": [
    "final_df[final_df[\"id\"] == 0]"
   ]
  },
  {
   "cell_type": "code",
   "execution_count": 18,
   "metadata": {},
   "outputs": [],
   "source": [
    "#generate final id\n",
    "final_df[\"id\"] = final_df[\"id\"].astype('str') + \"-\" + final_df[\"chunk\"].astype('str')"
   ]
  },
  {
   "cell_type": "code",
   "execution_count": 19,
   "metadata": {},
   "outputs": [],
   "source": [
    "#Drop unnecessary columns\n",
    "final_df.drop(columns = [\"chunk\", \"source\"], inplace = True)"
   ]
  },
  {
   "cell_type": "code",
   "execution_count": 20,
   "metadata": {},
   "outputs": [
    {
     "data": {
      "text/plain": [
       "(1046, 5)"
      ]
     },
     "execution_count": 20,
     "metadata": {},
     "output_type": "execute_result"
    }
   ],
   "source": [
    "final_df.shape"
   ]
  },
  {
   "cell_type": "code",
   "execution_count": 21,
   "metadata": {},
   "outputs": [
    {
     "data": {
      "text/html": [
       "<div>\n",
       "<style scoped>\n",
       "    .dataframe tbody tr th:only-of-type {\n",
       "        vertical-align: middle;\n",
       "    }\n",
       "\n",
       "    .dataframe tbody tr th {\n",
       "        vertical-align: top;\n",
       "    }\n",
       "\n",
       "    .dataframe thead th {\n",
       "        text-align: right;\n",
       "    }\n",
       "</style>\n",
       "<table border=\"1\" class=\"dataframe\">\n",
       "  <thead>\n",
       "    <tr style=\"text-align: right;\">\n",
       "      <th></th>\n",
       "      <th>id</th>\n",
       "      <th>page_content</th>\n",
       "      <th>metadata</th>\n",
       "      <th>tokens</th>\n",
       "      <th>nostopw_page_content</th>\n",
       "    </tr>\n",
       "  </thead>\n",
       "  <tbody>\n",
       "    <tr>\n",
       "      <th>0</th>\n",
       "      <td>0-0</td>\n",
       "      <td># AWS::Events::Rule SageMakerPipelineParameter...</td>\n",
       "      <td>{'Header 1': 'AWS::Events::Rule SageMakerPipel...</td>\n",
       "      <td>[#, AWS, :, :Events, :, :Rule, SageMakerPipeli...</td>\n",
       "      <td># AWS : :Events : :Rule SageMakerPipelineParam...</td>\n",
       "    </tr>\n",
       "    <tr>\n",
       "      <th>1</th>\n",
       "      <td>0-1</td>\n",
       "      <td>## Syntax&lt;a name=\"aws-properties-events-rule-s...</td>\n",
       "      <td>{'Header 1': 'AWS::Events::Rule SageMakerPipel...</td>\n",
       "      <td>[#, #, Syntax, &lt;, a, name=, '', aws-properties...</td>\n",
       "      <td># # Syntax &lt; name= '' aws-properties-events-ru...</td>\n",
       "    </tr>\n",
       "    <tr>\n",
       "      <th>2</th>\n",
       "      <td>0-2</td>\n",
       "      <td>## Properties&lt;a name=\"aws-properties-events-ru...</td>\n",
       "      <td>{'Header 1': 'AWS::Events::Rule SageMakerPipel...</td>\n",
       "      <td>[#, #, Properties, &lt;, a, name=, '', aws-proper...</td>\n",
       "      <td># # Properties &lt; name= '' aws-properties-event...</td>\n",
       "    </tr>\n",
       "    <tr>\n",
       "      <th>3</th>\n",
       "      <td>1-0</td>\n",
       "      <td># Automating Amazon SageMaker with Amazon Even...</td>\n",
       "      <td>{'Header 1': 'Automating Amazon SageMaker with...</td>\n",
       "      <td>[#, Automating, Amazon, SageMaker, with, Amazo...</td>\n",
       "      <td># Automating Amazon SageMaker Amazon EventBrid...</td>\n",
       "    </tr>\n",
       "    <tr>\n",
       "      <th>4</th>\n",
       "      <td>1-1</td>\n",
       "      <td>## Training job state change&lt;a name=\"eventbrid...</td>\n",
       "      <td>{'Header 1': 'Automating Amazon SageMaker with...</td>\n",
       "      <td>[#, #, Training, job, state, change, &lt;, a, nam...</td>\n",
       "      <td># # Training job state change &lt; name= '' event...</td>\n",
       "    </tr>\n",
       "  </tbody>\n",
       "</table>\n",
       "</div>"
      ],
      "text/plain": [
       "    id                                       page_content  \\\n",
       "0  0-0  # AWS::Events::Rule SageMakerPipelineParameter...   \n",
       "1  0-1  ## Syntax<a name=\"aws-properties-events-rule-s...   \n",
       "2  0-2  ## Properties<a name=\"aws-properties-events-ru...   \n",
       "3  1-0  # Automating Amazon SageMaker with Amazon Even...   \n",
       "4  1-1  ## Training job state change<a name=\"eventbrid...   \n",
       "\n",
       "                                            metadata  \\\n",
       "0  {'Header 1': 'AWS::Events::Rule SageMakerPipel...   \n",
       "1  {'Header 1': 'AWS::Events::Rule SageMakerPipel...   \n",
       "2  {'Header 1': 'AWS::Events::Rule SageMakerPipel...   \n",
       "3  {'Header 1': 'Automating Amazon SageMaker with...   \n",
       "4  {'Header 1': 'Automating Amazon SageMaker with...   \n",
       "\n",
       "                                              tokens  \\\n",
       "0  [#, AWS, :, :Events, :, :Rule, SageMakerPipeli...   \n",
       "1  [#, #, Syntax, <, a, name=, '', aws-properties...   \n",
       "2  [#, #, Properties, <, a, name=, '', aws-proper...   \n",
       "3  [#, Automating, Amazon, SageMaker, with, Amazo...   \n",
       "4  [#, #, Training, job, state, change, <, a, nam...   \n",
       "\n",
       "                                nostopw_page_content  \n",
       "0  # AWS : :Events : :Rule SageMakerPipelineParam...  \n",
       "1  # # Syntax < name= '' aws-properties-events-ru...  \n",
       "2  # # Properties < name= '' aws-properties-event...  \n",
       "3  # Automating Amazon SageMaker Amazon EventBrid...  \n",
       "4  # # Training job state change < name= '' event...  "
      ]
     },
     "execution_count": 21,
     "metadata": {},
     "output_type": "execute_result"
    }
   ],
   "source": [
    "final_df.head()"
   ]
  },
  {
   "cell_type": "code",
   "execution_count": 22,
   "metadata": {},
   "outputs": [],
   "source": [
    "save_folder = \"D:\\\\Documents\\GitHub\\\\knowledge_pal_assistant\\\\2_outputs\\\\\"\n",
    "final_df.to_parquet(save_folder + \"chunks.parquet\", index = False, engine = \"pyarrow\", compression= \"brotli\")"
   ]
  }
 ],
 "metadata": {
  "kernelspec": {
   "display_name": "loka_test",
   "language": "python",
   "name": "python3"
  },
  "language_info": {
   "codemirror_mode": {
    "name": "ipython",
    "version": 3
   },
   "file_extension": ".py",
   "mimetype": "text/x-python",
   "name": "python",
   "nbconvert_exporter": "python",
   "pygments_lexer": "ipython3",
   "version": "3.8.1"
  }
 },
 "nbformat": 4,
 "nbformat_minor": 2
}
