{
 "cells": [
  {
   "cell_type": "markdown",
   "id": "77448887-ed71-48e1-bf0d-2ff499d0c7ca",
   "metadata": {},
   "source": [
    "# Retrieval Augmented Generation\n",
    "Author: Cristian Velandia\n",
    "\n",
    "Creation Date: 2024-03-02\n",
    "\n",
    "RAG Using PINECONE vector DB, OpenAI chat gpt 3.5 and openai embeddings"
   ]
  },
  {
   "cell_type": "code",
   "execution_count": 1,
   "id": "30698fb9-4709-4088-9905-9ccb4efd5e09",
   "metadata": {
    "height": 166
   },
   "outputs": [],
   "source": [
    "from pinecone import Pinecone, ServerlessSpec\n",
    "from openai import OpenAI\n",
    "from tqdm.auto import tqdm\n",
    "\n",
    "import ast\n",
    "import pandas as pd\n",
    "import json"
   ]
  },
  {
   "cell_type": "code",
   "execution_count": 2,
   "id": "8ab484bb-3bfb-4c52-a5bd-bcbe4a7a63d2",
   "metadata": {
    "height": 30
   },
   "outputs": [],
   "source": [
    "# get api keys\n",
    "creds =json.load(open('personal_creds.json'))\n",
    "\n",
    "PINECONE_API_KEY = creds[\"PINECONE_API_KEY\"]\n",
    "OPENAI_API_KEY = creds[\"OPENAI_API_KEY\"]"
   ]
  },
  {
   "cell_type": "markdown",
   "id": "ba92fc2d",
   "metadata": {},
   "source": [
    "## Setup Pinecone\n",
    "### Log into API"
   ]
  },
  {
   "cell_type": "code",
   "execution_count": 3,
   "id": "ce859e4b-9b50-4f53-b357-28d3e3872c87",
   "metadata": {
    "height": 30
   },
   "outputs": [],
   "source": [
    "pinecone = Pinecone(api_key=PINECONE_API_KEY)\n",
    "\n",
    "# Dfine unique and readable index name\n",
    "INDEX_NAME = 'aws-docs-vdb-index-openai'"
   ]
  },
  {
   "cell_type": "markdown",
   "id": "f483bf81",
   "metadata": {},
   "source": [
    "### Create Index for Vector storage"
   ]
  },
  {
   "cell_type": "code",
   "execution_count": 4,
   "id": "1cffb406",
   "metadata": {},
   "outputs": [],
   "source": [
    "# Check if index already exists and deletes it\n",
    "if INDEX_NAME in [index.name for index in pinecone.list_indexes()]:\n",
    "  pinecone.delete_index(INDEX_NAME)\n",
    "\n",
    "# Recreates index, after creation it is visible at the consle\n",
    "pinecone.create_index(name = INDEX_NAME, dimension = 1536, metric = 'dotproduct',  spec = ServerlessSpec(cloud = 'aws', region = 'us-west-2')) "
   ]
  },
  {
   "cell_type": "code",
   "execution_count": 5,
   "id": "d30a8d1b",
   "metadata": {},
   "outputs": [],
   "source": [
    "#Create index object\n",
    "index = pinecone.Index(INDEX_NAME)"
   ]
  },
  {
   "cell_type": "markdown",
   "id": "a56d410b",
   "metadata": {},
   "source": [
    "### Load Previously Created Dataset\n",
    "Here we load the dataset with the crpus and vectors to upload them after into pinecone (upsert)"
   ]
  },
  {
   "cell_type": "code",
   "execution_count": 6,
   "id": "ef8df87e",
   "metadata": {},
   "outputs": [],
   "source": [
    "data_path = r\"D:\\Documents\\GitHub\\knowledge_pal_assistant\\2_outputs\\vectors.parquet\"\n",
    "vectors = pd.read_parquet(data_path, engine = \"pyarrow\")"
   ]
  },
  {
   "cell_type": "code",
   "execution_count": 7,
   "id": "12f20fd7",
   "metadata": {},
   "outputs": [
    {
     "data": {
      "text/html": [
       "<div>\n",
       "<style scoped>\n",
       "    .dataframe tbody tr th:only-of-type {\n",
       "        vertical-align: middle;\n",
       "    }\n",
       "\n",
       "    .dataframe tbody tr th {\n",
       "        vertical-align: top;\n",
       "    }\n",
       "\n",
       "    .dataframe thead th {\n",
       "        text-align: right;\n",
       "    }\n",
       "</style>\n",
       "<table border=\"1\" class=\"dataframe\">\n",
       "  <thead>\n",
       "    <tr style=\"text-align: right;\">\n",
       "      <th></th>\n",
       "      <th>id</th>\n",
       "      <th>page_content</th>\n",
       "      <th>metadata</th>\n",
       "      <th>tokens</th>\n",
       "      <th>nostopw_page_content</th>\n",
       "      <th>token_length</th>\n",
       "      <th>index_x</th>\n",
       "      <th>index_y</th>\n",
       "      <th>vect</th>\n",
       "    </tr>\n",
       "  </thead>\n",
       "  <tbody>\n",
       "    <tr>\n",
       "      <th>0</th>\n",
       "      <td>0-0</td>\n",
       "      <td># AWS::Events::Rule SageMakerPipelineParameter...</td>\n",
       "      <td>{'Header 1': 'AWS::Events::Rule SageMakerPipel...</td>\n",
       "      <td>[#, AWS, :, :Events, :, :Rule, SageMakerPipeli...</td>\n",
       "      <td># AWS : :Events : :Rule SageMakerPipelineParam...</td>\n",
       "      <td>39</td>\n",
       "      <td>0</td>\n",
       "      <td>0-0</td>\n",
       "      <td>[-0.036196205765008926, 0.024841105565428734, ...</td>\n",
       "    </tr>\n",
       "    <tr>\n",
       "      <th>1</th>\n",
       "      <td>0-1</td>\n",
       "      <td>## Syntax&lt;a name=\"aws-properties-events-rule-s...</td>\n",
       "      <td>{'Header 1': 'AWS::Events::Rule SageMakerPipel...</td>\n",
       "      <td>[#, #, Syntax, &lt;, a, name=, '', aws-properties...</td>\n",
       "      <td># # Syntax &lt; name= '' aws-properties-events-ru...</td>\n",
       "      <td>114</td>\n",
       "      <td>1</td>\n",
       "      <td>0-1</td>\n",
       "      <td>[-0.03795338422060013, 0.021498069167137146, 0...</td>\n",
       "    </tr>\n",
       "    <tr>\n",
       "      <th>2</th>\n",
       "      <td>0-2</td>\n",
       "      <td>## Properties&lt;a name=\"aws-properties-events-ru...</td>\n",
       "      <td>{'Header 1': 'AWS::Events::Rule SageMakerPipel...</td>\n",
       "      <td>[#, #, Properties, &lt;, a, name=, '', aws-proper...</td>\n",
       "      <td># # Properties &lt; name= '' aws-properties-event...</td>\n",
       "      <td>164</td>\n",
       "      <td>2</td>\n",
       "      <td>0-2</td>\n",
       "      <td>[-0.03936085104942322, 0.019204849377274513, 0...</td>\n",
       "    </tr>\n",
       "    <tr>\n",
       "      <th>3</th>\n",
       "      <td>1-0</td>\n",
       "      <td># Automating Amazon SageMaker with Amazon Even...</td>\n",
       "      <td>{'Header 1': 'Automating Amazon SageMaker with...</td>\n",
       "      <td>[#, Automating, Amazon, SageMaker, with, Amazo...</td>\n",
       "      <td># Automating Amazon SageMaker Amazon EventBrid...</td>\n",
       "      <td>315</td>\n",
       "      <td>3</td>\n",
       "      <td>1-0</td>\n",
       "      <td>[-0.0347835049033165, -0.01207298319786787, -0...</td>\n",
       "    </tr>\n",
       "    <tr>\n",
       "      <th>4</th>\n",
       "      <td>1-1</td>\n",
       "      <td>## Training job state change&lt;a name=\"eventbrid...</td>\n",
       "      <td>{'Header 1': 'Automating Amazon SageMaker with...</td>\n",
       "      <td>[#, #, Training, job, state, change, &lt;, a, nam...</td>\n",
       "      <td># # Training job state change &lt; name= '' event...</td>\n",
       "      <td>445</td>\n",
       "      <td>4</td>\n",
       "      <td>1-1</td>\n",
       "      <td>[-0.035871874541044235, 0.0021414232905954123,...</td>\n",
       "    </tr>\n",
       "  </tbody>\n",
       "</table>\n",
       "</div>"
      ],
      "text/plain": [
       "    id                                       page_content  \\\n",
       "0  0-0  # AWS::Events::Rule SageMakerPipelineParameter...   \n",
       "1  0-1  ## Syntax<a name=\"aws-properties-events-rule-s...   \n",
       "2  0-2  ## Properties<a name=\"aws-properties-events-ru...   \n",
       "3  1-0  # Automating Amazon SageMaker with Amazon Even...   \n",
       "4  1-1  ## Training job state change<a name=\"eventbrid...   \n",
       "\n",
       "                                            metadata  \\\n",
       "0  {'Header 1': 'AWS::Events::Rule SageMakerPipel...   \n",
       "1  {'Header 1': 'AWS::Events::Rule SageMakerPipel...   \n",
       "2  {'Header 1': 'AWS::Events::Rule SageMakerPipel...   \n",
       "3  {'Header 1': 'Automating Amazon SageMaker with...   \n",
       "4  {'Header 1': 'Automating Amazon SageMaker with...   \n",
       "\n",
       "                                              tokens  \\\n",
       "0  [#, AWS, :, :Events, :, :Rule, SageMakerPipeli...   \n",
       "1  [#, #, Syntax, <, a, name=, '', aws-properties...   \n",
       "2  [#, #, Properties, <, a, name=, '', aws-proper...   \n",
       "3  [#, Automating, Amazon, SageMaker, with, Amazo...   \n",
       "4  [#, #, Training, job, state, change, <, a, nam...   \n",
       "\n",
       "                                nostopw_page_content  token_length index_x  \\\n",
       "0  # AWS : :Events : :Rule SageMakerPipelineParam...            39       0   \n",
       "1  # # Syntax < name= '' aws-properties-events-ru...           114       1   \n",
       "2  # # Properties < name= '' aws-properties-event...           164       2   \n",
       "3  # Automating Amazon SageMaker Amazon EventBrid...           315       3   \n",
       "4  # # Training job state change < name= '' event...           445       4   \n",
       "\n",
       "  index_y                                               vect  \n",
       "0     0-0  [-0.036196205765008926, 0.024841105565428734, ...  \n",
       "1     0-1  [-0.03795338422060013, 0.021498069167137146, 0...  \n",
       "2     0-2  [-0.03936085104942322, 0.019204849377274513, 0...  \n",
       "3     1-0  [-0.0347835049033165, -0.01207298319786787, -0...  \n",
       "4     1-1  [-0.035871874541044235, 0.0021414232905954123,...  "
      ]
     },
     "execution_count": 7,
     "metadata": {},
     "output_type": "execute_result"
    }
   ],
   "source": [
    "vectors.head()"
   ]
  },
  {
   "cell_type": "code",
   "execution_count": 8,
   "id": "17e8128a",
   "metadata": {},
   "outputs": [
    {
     "data": {
      "text/plain": [
       "1536"
      ]
     },
     "execution_count": 8,
     "metadata": {},
     "output_type": "execute_result"
    }
   ],
   "source": [
    "len(ast.literal_eval(vectors[\"vect\"][0]))"
   ]
  },
  {
   "cell_type": "code",
   "execution_count": 9,
   "id": "2b103d07",
   "metadata": {},
   "outputs": [],
   "source": [
    "#clean meta, do not include headers\n",
    "def pop_keys(d, key):\n",
    "    tmp = d.copy()\n",
    "    tmp.pop(key)\n",
    "    return tmp\n",
    "\n",
    "vectors[\"metadata\"] = vectors[\"metadata\"].apply(pop_keys, args = ([\"Header 1\"])) \n",
    "vectors[\"metadata\"] = vectors[\"metadata\"].apply(pop_keys, args = ([\"Header 2\"]))"
   ]
  },
  {
   "cell_type": "markdown",
   "id": "ab3c0402",
   "metadata": {},
   "source": [
    "### Upsert embeddings to Pinecone "
   ]
  },
  {
   "cell_type": "code",
   "execution_count": 10,
   "id": "5fb67759-ab38-4472-bfb0-4a56d1c05955",
   "metadata": {
    "height": 81
   },
   "outputs": [
    {
     "data": {
      "application/vnd.jupyter.widget-view+json": {
       "model_id": "dfa88a5835db4017a02aaf25e593facf",
       "version_major": 2,
       "version_minor": 0
      },
      "text/plain": [
       "  0%|          | 0/500 [00:00<?, ?it/s]"
      ]
     },
     "metadata": {},
     "output_type": "display_data"
    }
   ],
   "source": [
    "# Create list for batching the upload\n",
    "prepped = []\n",
    "\n",
    "# Iterate through data\n",
    "for i, row in tqdm(vectors.iterrows(), total=vectors.shape[0]):\n",
    "    \n",
    "    prepped.append({'id' : row['id'], 'values' : ast.literal_eval(row['vect']), 'metadata' : row['metadata']})\n",
    "\n",
    "    if len(prepped) >= 250:\n",
    "        index.upsert(prepped) #Upsert a batch of 250 vectors\n",
    "        prepped = []\n"
   ]
  },
  {
   "cell_type": "code",
   "execution_count": 13,
   "id": "d90ec5ec-5397-4ed5-8163-7a901b6ecb0c",
   "metadata": {
    "height": 64
   },
   "outputs": [
    {
     "data": {
      "text/plain": [
       "{'dimension': 1536,\n",
       " 'index_fullness': 0.0,\n",
       " 'namespaces': {'': {'vector_count': 500}},\n",
       " 'total_vector_count': 500}"
      ]
     },
     "execution_count": 13,
     "metadata": {},
     "output_type": "execute_result"
    }
   ],
   "source": [
    "#Descripe uploaded index\n",
    "index.describe_index_stats()"
   ]
  },
  {
   "cell_type": "markdown",
   "id": "1780a189",
   "metadata": {},
   "source": [
    "### Augment Chat GPT 3.5 Queries \n",
    "Trhough this section the connection to open AI for embeddings and LLM is performed, after, the prompts are built and tested. Here we will test the RAG capabilites while using pinecone and openai apis"
   ]
  },
  {
   "cell_type": "code",
   "execution_count": 14,
   "id": "1607222c",
   "metadata": {},
   "outputs": [],
   "source": [
    "openai_client = OpenAI(api_key=OPENAI_API_KEY)"
   ]
  },
  {
   "cell_type": "code",
   "execution_count": 22,
   "id": "a2206b00",
   "metadata": {},
   "outputs": [],
   "source": [
    "# First step, get all the relevant infromation from the vector DB (this will be the question that the user will ask)\n",
    "query = \"How to check if an endpoint is KMS encrypted?\"\n",
    "\n",
    "embeddings = openai_client.embeddings.create(input = [query], model = \"text-embedding-ada-002\")\n"
   ]
  },
  {
   "cell_type": "code",
   "execution_count": 24,
   "id": "f501d191",
   "metadata": {},
   "outputs": [
    {
     "name": "stdout",
     "output_type": "stream",
     "text": [
      "## Properties<a name=\"aws-properties-sagemaker-modelcard-securityconfig-properties\"></a>  \n",
      "`KmsKeyId`  <a name=\"cfn-sagemaker-modelcard-securityconfig-kmskeyid\"></a>\n",
      "A AWS Key Management Service [key ID](https://docs.aws.amazon.com/kms/latest/developerguide/concepts.html#key-id-key-id) used to encrypt a model card\\.\n",
      "*Required*: No\n",
      "*Type*: String\n",
      "*Update requires*: [Replacement](https://docs.aws.amazon.com/AWSCloudFormation/latest/UserGuide/using-cfn-updating-stacks-update-behaviors.html#update-replacement)\n",
      " 'data source =  D:\\Documents\\GitHub\\knowledge_pal_assistant\\0_data\\aws-properties-sagemaker-modelcard-securityconfig.md'\n",
      "## Syntax<a name=\"aws-properties-sagemaker-modelcard-securityconfig-syntax\"></a>  \n",
      "To declare this entity in your AWS CloudFormation template, use the following syntax:  \n",
      "### JSON<a name=\"aws-properties-sagemaker-modelcard-securityconfig-syntax.json\"></a>  \n",
      "```\n",
      "{\n",
      "\"[KmsKeyId](#cfn-sagemaker-modelcard-securityconfig-kmskeyid)\" : String\n",
      "}\n",
      "```  \n",
      "### YAML<a name=\"aws-properties-sagemaker-modelcard-securityconfig-syntax.yaml\"></a>  \n",
      "```\n",
      "[KmsKeyId](#cfn-sagemaker-modelcard-securityconfig-kmskeyid): String\n",
      "```\n",
      " 'data source =  D:\\Documents\\GitHub\\knowledge_pal_assistant\\0_data\\aws-properties-sagemaker-modelcard-securityconfig.md'\n",
      "## Endpoint state change<a name=\"eventbridge-endpoint\"></a>  \n",
      "Indicates a change in the status of a SageMaker hosted real\\-time inference endpoint\\.  \n",
      "The following shows an event with an endpoint in the `IN_SERVICE` state\\.  \n",
      "```\n",
      "{\n",
      "\"version\": \"0\",\n",
      "\"id\": \"d2921b5a-b0ad-cace-a8e3-0f159d018e06\",\n",
      "\"detail-type\": \"SageMaker Endpoint State Change\",\n",
      "\"source\": \"aws.sagemaker\",\n",
      "\"account\": \"123456789012\",\n",
      "\"time\": \"1583831889050\",\n",
      "\"region\": \"us-west-2\",\n",
      "\"resources\": [\n",
      "\"arn:aws:sagemaker:us-west-2:123456789012:endpoint/myendpoint\"\n",
      "],\n",
      "\"detail\": {\n",
      "\"EndpointName\": \"MyEndpoint\",\n",
      "\"EndpointArn\": \"arn:aws:sagemaker:us-west-2:123456789012:endpoint/myendpoint\",\n",
      "\"EndpointConfigName\": \"MyEndpointConfig\",\n",
      "\"ProductionVariants\": [\n",
      "{\n",
      "\"DesiredWeight\": 1.0,\n",
      "\"DesiredInstanceCount\": 1.0\n",
      "}\n",
      "],\n",
      "\"EndpointStatus\": \"IN_SERVICE\",\n",
      "\"CreationTime\": 1592411992203.0,\n",
      "\"LastModifiedTime\": 1592411994287.0,\n",
      "\"Tags\": {\n",
      "\n",
      "}\n",
      "}\n",
      "}\n",
      "```\n",
      " 'data source =  D:\\Documents\\GitHub\\knowledge_pal_assistant\\0_data\\automating-sagemaker-with-eventbridge.md'\n",
      "## Properties<a name=\"aws-properties-sagemaker-devicefleet-edgeoutputconfig-properties\"></a>  \n",
      "`KmsKeyId`  <a name=\"cfn-sagemaker-devicefleet-edgeoutputconfig-kmskeyid\"></a>\n",
      "The AWS Key Management Service \\(AWS KMS\\) key that Amazon SageMaker uses to encrypt data on the storage volume after compilation job\\. If you don't provide a KMS key ID, Amazon SageMaker uses the default KMS key for Amazon S3 for your role's account\\.\n",
      "*Required*: No\n",
      "*Type*: String\n",
      "*Maximum*: `2048`\n",
      "*Pattern*: `.*`\n",
      "*Update requires*: [No interruption](https://docs.aws.amazon.com/AWSCloudFormation/latest/UserGuide/using-cfn-updating-stacks-update-behaviors.html#update-no-interrupt)  \n",
      "`S3OutputLocation`  <a name=\"cfn-sagemaker-devicefleet-edgeoutputconfig-s3outputlocation\"></a>\n",
      "The Amazon Simple Storage \\(S3\\) bucket URI\\.\n",
      "*Required*: Yes\n",
      "*Type*: String\n",
      "*Maximum*: `1024`\n",
      "*Pattern*: `^(https|s3)://([^/]+)/?(.*)$`\n",
      "*Update requires*: [No interruption](https://docs.aws.amazon.com/AWSCloudFormation/latest/UserGuide/using-cfn-updating-stacks-update-behaviors.html#update-no-interrupt)\n",
      " 'data source =  D:\\Documents\\GitHub\\knowledge_pal_assistant\\0_data\\aws-properties-sagemaker-devicefleet-edgeoutputconfig.md'\n",
      "## Properties<a name=\"aws-properties-sagemaker-modelexplainabilityjobdefinition-monitoringoutputconfig-properties\"></a>  \n",
      "`KmsKeyId`  <a name=\"cfn-sagemaker-modelexplainabilityjobdefinition-monitoringoutputconfig-kmskeyid\"></a>\n",
      "The AWS Key Management Service \\(AWS KMS\\) key that Amazon SageMaker uses to encrypt the model artifacts at rest using Amazon S3 server\\-side encryption\\.\n",
      "*Required*: No\n",
      "*Type*: String\n",
      "*Maximum*: `2048`\n",
      "*Pattern*: `.*`\n",
      "*Update requires*: [Replacement](https://docs.aws.amazon.com/AWSCloudFormation/latest/UserGuide/using-cfn-updating-stacks-update-behaviors.html#update-replacement)  \n",
      "`MonitoringOutputs`  <a name=\"cfn-sagemaker-modelexplainabilityjobdefinition-monitoringoutputconfig-monitoringoutputs\"></a>\n",
      "Monitoring outputs for monitoring jobs\\. This is where the output of the periodic monitoring jobs is uploaded\\.\n",
      "*Required*: Yes\n",
      "*Type*: List of [MonitoringOutput](aws-properties-sagemaker-modelexplainabilityjobdefinition-monitoringoutput.md)\n",
      "*Maximum*: `1`\n",
      "*Update requires*: [Replacement](https://docs.aws.amazon.com/AWSCloudFormation/latest/UserGuide/using-cfn-updating-stacks-update-behaviors.html#update-replacement)\n",
      " 'data source =  D:\\Documents\\GitHub\\knowledge_pal_assistant\\0_data\\aws-properties-sagemaker-modelexplainabilityjobdefinition-monitoringoutputconfig.md'\n"
     ]
    }
   ],
   "source": [
    "res = index.query(vector = embeddings.data[0].embedding, top_k = 5, include_metadata = True)\n",
    "\n",
    "context = [r['metadata']['text'] for r in res['matches']]\n",
    "print('\\n'.join(context)) #Visualize output"
   ]
  },
  {
   "cell_type": "code",
   "execution_count": 25,
   "id": "131ef73a",
   "metadata": {},
   "outputs": [],
   "source": [
    "message = [{\n",
    "    \"role\" : \"system\",\n",
    "    \"content\" : \"You are Knowledge pal, an expert developer assistant. Your goal is to answer questions about cloud services, coding in different languages, and provide a detailed response everytime. You will provide the source of the answer you are giving and 3 more related sources, those sources can be a path or URL. Answer combining your knowledge with the context provided. If information is not clear or the context is not enough to give an answer, tell the user that you don't have the answer. \\n Context:\\n {0} \\n\\n Question: {1}\\n Answer: \".format(\"\\n\\n---\\n\\n\".join(context), query)\n",
    "}]"
   ]
  },
  {
   "cell_type": "code",
   "execution_count": 26,
   "id": "6d07cbf0",
   "metadata": {},
   "outputs": [],
   "source": [
    "knowledge_pal_response = openai_client.chat.completions.create(\n",
    "    model = \"gpt-3.5-turbo\",\n",
    "    messages = message,\n",
    "    temperature = 0,\n",
    "    max_tokens = 636,\n",
    "    top_p = 1,\n",
    "    frequency_penalty = 0,\n",
    "    presence_penalty = 0,\n",
    "    stop = None\n",
    ")\n"
   ]
  },
  {
   "cell_type": "code",
   "execution_count": 27,
   "id": "a11d33ec",
   "metadata": {},
   "outputs": [
    {
     "name": "stdout",
     "output_type": "stream",
     "text": [
      "--------------------------------------------------------------------------------\n",
      "To check if an endpoint is KMS encrypted in AWS SageMaker, you can inspect the `KmsKeyId` property associated with the endpoint. If the `KmsKeyId` property is specified with a valid AWS Key Management Service (KMS) key ID, it indicates that the endpoint is encrypted using that specific KMS key.\n",
      "\n",
      "Here is the syntax to declare the `KmsKeyId` property in an AWS CloudFormation template:\n",
      "\n",
      "### JSON\n",
      "```json\n",
      "{\n",
      "  \"KmsKeyId\": \"your_KMS_key_ID_here\"\n",
      "}\n",
      "```\n",
      "\n",
      "### YAML\n",
      "```yaml\n",
      "KmsKeyId: your_KMS_key_ID_here\n",
      "```\n",
      "\n",
      "By providing a valid KMS key ID in the `KmsKeyId` property, you ensure that the endpoint is encrypted using that specific KMS key.\n",
      "\n",
      "Sources:\n",
      "1. [AWS CloudFormation Documentation - Update Behaviors](https://docs.aws.amazon.com/AWSCloudFormation/latest/UserGuide/using-cfn-updating-stacks-update-behaviors.html#update-replacement)\n",
      "2. [AWS Key Management Service (KMS) Concepts](https://docs.aws.amazon.com/kms/latest/developerguide/concepts.html#key-id-key-id)\n",
      "3. [Automating SageMaker with Amazon EventBridge](D:\\Documents\\GitHub\\knowledge_pal_assistant\\0_data\\automating-sagemaker-with-eventbridge.md)\n"
     ]
    }
   ],
   "source": [
    "print('-' * 80)\n",
    "print(knowledge_pal_response.choices[0].message.content)"
   ]
  },
  {
   "cell_type": "code",
   "execution_count": null,
   "id": "26771cd6",
   "metadata": {},
   "outputs": [],
   "source": []
  }
 ],
 "metadata": {
  "kernelspec": {
   "display_name": "Python 3 (ipykernel)",
   "language": "python",
   "name": "python3"
  },
  "language_info": {
   "codemirror_mode": {
    "name": "ipython",
    "version": 3
   },
   "file_extension": ".py",
   "mimetype": "text/x-python",
   "name": "python",
   "nbconvert_exporter": "python",
   "pygments_lexer": "ipython3",
   "version": "3.8.1"
  }
 },
 "nbformat": 4,
 "nbformat_minor": 5
}
