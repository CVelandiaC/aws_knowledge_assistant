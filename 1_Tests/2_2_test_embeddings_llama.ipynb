{
 "cells": [
  {
   "cell_type": "markdown",
   "metadata": {},
   "source": [
    "# Generate Embeddings for text\n",
    "Author: Cristian Velandia\n",
    "\n",
    "Creation Date: 2024-03-03\n",
    "\n",
    "Create embeddings for the vector DB using Metas Llama cpp quntize embeddings model"
   ]
  },
  {
   "cell_type": "code",
   "execution_count": 1,
   "metadata": {},
   "outputs": [
    {
     "name": "stderr",
     "output_type": "stream",
     "text": [
      "c:\\ProgramData\\anaconda3\\envs\\loka_test_v2\\lib\\site-packages\\tqdm\\auto.py:21: TqdmWarning: IProgress not found. Please update jupyter and ipywidgets. See https://ipywidgets.readthedocs.io/en/stable/user_install.html\n",
      "  from .autonotebook import tqdm as notebook_tqdm\n"
     ]
    }
   ],
   "source": [
    "from langchain.embeddings import LlamaCppEmbeddings\n",
    "from llama_cpp import Llama\n",
    "import pandas as pd\n",
    "from huggingface_hub import hf_hub_download"
   ]
  },
  {
   "cell_type": "markdown",
   "metadata": {},
   "source": [
    "### Load Dataset"
   ]
  },
  {
   "cell_type": "code",
   "execution_count": 2,
   "metadata": {},
   "outputs": [],
   "source": [
    "data_path = r\"D:\\Documents\\GitHub\\knowledge_pal_assistant\\2_outputs\\chunks.parquet\"\n",
    "chunks = pd.read_parquet(data_path, engine = \"pyarrow\")"
   ]
  },
  {
   "cell_type": "code",
   "execution_count": 3,
   "metadata": {},
   "outputs": [
    {
     "data": {
      "text/html": [
       "<div>\n",
       "<style scoped>\n",
       "    .dataframe tbody tr th:only-of-type {\n",
       "        vertical-align: middle;\n",
       "    }\n",
       "\n",
       "    .dataframe tbody tr th {\n",
       "        vertical-align: top;\n",
       "    }\n",
       "\n",
       "    .dataframe thead th {\n",
       "        text-align: right;\n",
       "    }\n",
       "</style>\n",
       "<table border=\"1\" class=\"dataframe\">\n",
       "  <thead>\n",
       "    <tr style=\"text-align: right;\">\n",
       "      <th></th>\n",
       "      <th>id</th>\n",
       "      <th>page_content</th>\n",
       "      <th>metadata</th>\n",
       "      <th>tokens</th>\n",
       "      <th>nostopw_page_content</th>\n",
       "    </tr>\n",
       "  </thead>\n",
       "  <tbody>\n",
       "    <tr>\n",
       "      <th>0</th>\n",
       "      <td>0-0</td>\n",
       "      <td># AWS::Events::Rule SageMakerPipelineParameter...</td>\n",
       "      <td>{'Header 1': 'AWS::Events::Rule SageMakerPipel...</td>\n",
       "      <td>[#, AWS, :, :Events, :, :Rule, SageMakerPipeli...</td>\n",
       "      <td># AWS : :Events : :Rule SageMakerPipelineParam...</td>\n",
       "    </tr>\n",
       "    <tr>\n",
       "      <th>1</th>\n",
       "      <td>0-1</td>\n",
       "      <td>## Syntax&lt;a name=\"aws-properties-events-rule-s...</td>\n",
       "      <td>{'Header 1': 'AWS::Events::Rule SageMakerPipel...</td>\n",
       "      <td>[#, #, Syntax, &lt;, a, name=, '', aws-properties...</td>\n",
       "      <td># # Syntax &lt; name= '' aws-properties-events-ru...</td>\n",
       "    </tr>\n",
       "    <tr>\n",
       "      <th>2</th>\n",
       "      <td>0-2</td>\n",
       "      <td>## Properties&lt;a name=\"aws-properties-events-ru...</td>\n",
       "      <td>{'Header 1': 'AWS::Events::Rule SageMakerPipel...</td>\n",
       "      <td>[#, #, Properties, &lt;, a, name=, '', aws-proper...</td>\n",
       "      <td># # Properties &lt; name= '' aws-properties-event...</td>\n",
       "    </tr>\n",
       "    <tr>\n",
       "      <th>3</th>\n",
       "      <td>1-0</td>\n",
       "      <td># Automating Amazon SageMaker with Amazon Even...</td>\n",
       "      <td>{'Header 1': 'Automating Amazon SageMaker with...</td>\n",
       "      <td>[#, Automating, Amazon, SageMaker, with, Amazo...</td>\n",
       "      <td># Automating Amazon SageMaker Amazon EventBrid...</td>\n",
       "    </tr>\n",
       "    <tr>\n",
       "      <th>4</th>\n",
       "      <td>1-1</td>\n",
       "      <td>## Training job state change&lt;a name=\"eventbrid...</td>\n",
       "      <td>{'Header 1': 'Automating Amazon SageMaker with...</td>\n",
       "      <td>[#, #, Training, job, state, change, &lt;, a, nam...</td>\n",
       "      <td># # Training job state change &lt; name= '' event...</td>\n",
       "    </tr>\n",
       "  </tbody>\n",
       "</table>\n",
       "</div>"
      ],
      "text/plain": [
       "    id                                       page_content  \\\n",
       "0  0-0  # AWS::Events::Rule SageMakerPipelineParameter...   \n",
       "1  0-1  ## Syntax<a name=\"aws-properties-events-rule-s...   \n",
       "2  0-2  ## Properties<a name=\"aws-properties-events-ru...   \n",
       "3  1-0  # Automating Amazon SageMaker with Amazon Even...   \n",
       "4  1-1  ## Training job state change<a name=\"eventbrid...   \n",
       "\n",
       "                                            metadata  \\\n",
       "0  {'Header 1': 'AWS::Events::Rule SageMakerPipel...   \n",
       "1  {'Header 1': 'AWS::Events::Rule SageMakerPipel...   \n",
       "2  {'Header 1': 'AWS::Events::Rule SageMakerPipel...   \n",
       "3  {'Header 1': 'Automating Amazon SageMaker with...   \n",
       "4  {'Header 1': 'Automating Amazon SageMaker with...   \n",
       "\n",
       "                                              tokens  \\\n",
       "0  [#, AWS, :, :Events, :, :Rule, SageMakerPipeli...   \n",
       "1  [#, #, Syntax, <, a, name=, '', aws-properties...   \n",
       "2  [#, #, Properties, <, a, name=, '', aws-proper...   \n",
       "3  [#, Automating, Amazon, SageMaker, with, Amazo...   \n",
       "4  [#, #, Training, job, state, change, <, a, nam...   \n",
       "\n",
       "                                nostopw_page_content  \n",
       "0  # AWS : :Events : :Rule SageMakerPipelineParam...  \n",
       "1  # # Syntax < name= '' aws-properties-events-ru...  \n",
       "2  # # Properties < name= '' aws-properties-event...  \n",
       "3  # Automating Amazon SageMaker Amazon EventBrid...  \n",
       "4  # # Training job state change < name= '' event...  "
      ]
     },
     "execution_count": 3,
     "metadata": {},
     "output_type": "execute_result"
    }
   ],
   "source": [
    "chunks.head()"
   ]
  },
  {
   "cell_type": "code",
   "execution_count": 4,
   "metadata": {},
   "outputs": [
    {
     "data": {
      "text/plain": [
       "(1046, 5)"
      ]
     },
     "execution_count": 4,
     "metadata": {},
     "output_type": "execute_result"
    }
   ],
   "source": [
    "chunks.shape"
   ]
  },
  {
   "cell_type": "code",
   "execution_count": 5,
   "metadata": {},
   "outputs": [],
   "source": [
    "chunks[\"token_length\"] = chunks[\"tokens\"].apply(lambda x: len(x))\n",
    "chunks.reset_index(drop = False, inplace = True)"
   ]
  },
  {
   "cell_type": "code",
   "execution_count": 6,
   "metadata": {},
   "outputs": [
    {
     "data": {
      "text/plain": [
       "token_length\n",
       "5169     1\n",
       "2282     1\n",
       "2027     1\n",
       "2007     1\n",
       "1921     1\n",
       "        ..\n",
       "31      17\n",
       "30      10\n",
       "29      14\n",
       "28       1\n",
       "27       1\n",
       "Name: count, Length: 373, dtype: int64"
      ]
     },
     "execution_count": 6,
     "metadata": {},
     "output_type": "execute_result"
    }
   ],
   "source": [
    "chunks[\"token_length\"].value_counts().sort_index(ascending = False)"
   ]
  },
  {
   "cell_type": "markdown",
   "metadata": {},
   "source": [
    "### Setup LLama Embeddings model"
   ]
  },
  {
   "cell_type": "code",
   "execution_count": 7,
   "metadata": {},
   "outputs": [],
   "source": [
    "models_folder = \".\\\\hf_models\"\n",
    "model_name = \"TheBloke/Llama-2-7B-Chat-GGML\"\n",
    "model_filename = \"llama-2-7b-chat.ggmlv3.q4_K_M.bin\""
   ]
  },
  {
   "cell_type": "code",
   "execution_count": null,
   "metadata": {},
   "outputs": [],
   "source": [
    "#Download the model if necessary\n",
    "file_path = hf_hub_download(repo_id = model_name, filename = model_filename, local_dir = models_folder,)"
   ]
  },
  {
   "cell_type": "code",
   "execution_count": 8,
   "metadata": {},
   "outputs": [
    {
     "name": "stderr",
     "output_type": "stream",
     "text": [
      "AVX = 1 | AVX2 = 1 | AVX512 = 0 | AVX512_VBMI = 0 | AVX512_VNNI = 0 | FMA = 1 | NEON = 0 | ARM_FMA = 0 | F16C = 1 | FP16_VA = 0 | WASM_SIMD = 0 | BLAS = 1 | SSE3 = 1 | VSX = 0 | \n"
     ]
    }
   ],
   "source": [
    "llama_model_path = f\"{models_folder}\\\\{model_filename}\"\n",
    "embeddings = LlamaCppEmbeddings(model_path = llama_model_path, n_ctx = 4096, n_gpu_layers = 5) # Instance model with GPU n_gpu_layers = 30 works slower than just processor, n_gpu_layers = 5 optimal "
   ]
  },
  {
   "cell_type": "markdown",
   "metadata": {},
   "source": [
    "### Generate Embeddings"
   ]
  },
  {
   "cell_type": "code",
   "execution_count": null,
   "metadata": {},
   "outputs": [],
   "source": [
    "documents = chunks[chunks[\"token_length\"] <= 4096][\"page_content\"].to_list()\n",
    "len(documents)"
   ]
  },
  {
   "cell_type": "code",
   "execution_count": null,
   "metadata": {},
   "outputs": [],
   "source": [
    "test_string = documents[11]\n",
    "embs = embeddings.embed_query(test_string)"
   ]
  },
  {
   "cell_type": "code",
   "execution_count": null,
   "metadata": {},
   "outputs": [],
   "source": [
    "len(embs)"
   ]
  },
  {
   "cell_type": "code",
   "execution_count": 9,
   "metadata": {},
   "outputs": [
    {
     "name": "stdout",
     "output_type": "stream",
     "text": [
      "1046\n",
      "996\n",
      "946\n",
      "896\n",
      "846\n",
      "796\n",
      "746\n",
      "696\n",
      "646\n",
      "596\n",
      "546\n",
      "496\n",
      "446\n",
      "396\n",
      "346\n",
      "296\n",
      "246\n"
     ]
    },
    {
     "ename": "ValueError",
     "evalue": "could not broadcast input array from shape (8,) into shape (0,)",
     "output_type": "error",
     "traceback": [
      "\u001b[1;31m---------------------------------------------------------------------------\u001b[0m",
      "\u001b[1;31mValueError\u001b[0m                                Traceback (most recent call last)",
      "Cell \u001b[1;32mIn[9], line 14\u001b[0m\n\u001b[0;32m     11\u001b[0m documents \u001b[38;5;241m=\u001b[39m batch[\u001b[38;5;124m\"\u001b[39m\u001b[38;5;124mpage_content\u001b[39m\u001b[38;5;124m\"\u001b[39m]\u001b[38;5;241m.\u001b[39mto_list()\n\u001b[0;32m     13\u001b[0m \u001b[38;5;66;03m# Embed texts\u001b[39;00m\n\u001b[1;32m---> 14\u001b[0m aws_embeddings \u001b[38;5;241m=\u001b[39m \u001b[43membeddings\u001b[49m\u001b[38;5;241;43m.\u001b[39;49m\u001b[43membed_documents\u001b[49m\u001b[43m(\u001b[49m\u001b[43mdocuments\u001b[49m\u001b[43m)\u001b[49m\n\u001b[0;32m     16\u001b[0m \u001b[38;5;66;03m# Checkpoint\u001b[39;00m\n\u001b[0;32m     17\u001b[0m batch_ids \u001b[38;5;241m=\u001b[39m batch[\u001b[38;5;124m\"\u001b[39m\u001b[38;5;124mid\u001b[39m\u001b[38;5;124m\"\u001b[39m]\u001b[38;5;241m.\u001b[39mtolist()\n",
      "File \u001b[1;32mc:\\ProgramData\\anaconda3\\envs\\loka_test_v2\\lib\\site-packages\\langchain\\embeddings\\llamacpp.py:111\u001b[0m, in \u001b[0;36mLlamaCppEmbeddings.embed_documents\u001b[1;34m(self, texts)\u001b[0m\n\u001b[0;32m    102\u001b[0m \u001b[38;5;28;01mdef\u001b[39;00m \u001b[38;5;21membed_documents\u001b[39m(\u001b[38;5;28mself\u001b[39m, texts: List[\u001b[38;5;28mstr\u001b[39m]) \u001b[38;5;241m-\u001b[39m\u001b[38;5;241m>\u001b[39m List[List[\u001b[38;5;28mfloat\u001b[39m]]:\n\u001b[0;32m    103\u001b[0m \u001b[38;5;250m    \u001b[39m\u001b[38;5;124;03m\"\"\"Embed a list of documents using the Llama model.\u001b[39;00m\n\u001b[0;32m    104\u001b[0m \n\u001b[0;32m    105\u001b[0m \u001b[38;5;124;03m    Args:\u001b[39;00m\n\u001b[1;32m   (...)\u001b[0m\n\u001b[0;32m    109\u001b[0m \u001b[38;5;124;03m        List of embeddings, one for each text.\u001b[39;00m\n\u001b[0;32m    110\u001b[0m \u001b[38;5;124;03m    \"\"\"\u001b[39;00m\n\u001b[1;32m--> 111\u001b[0m     embeddings \u001b[38;5;241m=\u001b[39m [\u001b[38;5;28mself\u001b[39m\u001b[38;5;241m.\u001b[39mclient\u001b[38;5;241m.\u001b[39membed(text) \u001b[38;5;28;01mfor\u001b[39;00m text \u001b[38;5;129;01min\u001b[39;00m texts]\n\u001b[0;32m    112\u001b[0m     \u001b[38;5;28;01mreturn\u001b[39;00m [\u001b[38;5;28mlist\u001b[39m(\u001b[38;5;28mmap\u001b[39m(\u001b[38;5;28mfloat\u001b[39m, e)) \u001b[38;5;28;01mfor\u001b[39;00m e \u001b[38;5;129;01min\u001b[39;00m embeddings]\n",
      "File \u001b[1;32mc:\\ProgramData\\anaconda3\\envs\\loka_test_v2\\lib\\site-packages\\langchain\\embeddings\\llamacpp.py:111\u001b[0m, in \u001b[0;36m<listcomp>\u001b[1;34m(.0)\u001b[0m\n\u001b[0;32m    102\u001b[0m \u001b[38;5;28;01mdef\u001b[39;00m \u001b[38;5;21membed_documents\u001b[39m(\u001b[38;5;28mself\u001b[39m, texts: List[\u001b[38;5;28mstr\u001b[39m]) \u001b[38;5;241m-\u001b[39m\u001b[38;5;241m>\u001b[39m List[List[\u001b[38;5;28mfloat\u001b[39m]]:\n\u001b[0;32m    103\u001b[0m \u001b[38;5;250m    \u001b[39m\u001b[38;5;124;03m\"\"\"Embed a list of documents using the Llama model.\u001b[39;00m\n\u001b[0;32m    104\u001b[0m \n\u001b[0;32m    105\u001b[0m \u001b[38;5;124;03m    Args:\u001b[39;00m\n\u001b[1;32m   (...)\u001b[0m\n\u001b[0;32m    109\u001b[0m \u001b[38;5;124;03m        List of embeddings, one for each text.\u001b[39;00m\n\u001b[0;32m    110\u001b[0m \u001b[38;5;124;03m    \"\"\"\u001b[39;00m\n\u001b[1;32m--> 111\u001b[0m     embeddings \u001b[38;5;241m=\u001b[39m [\u001b[38;5;28;43mself\u001b[39;49m\u001b[38;5;241;43m.\u001b[39;49m\u001b[43mclient\u001b[49m\u001b[38;5;241;43m.\u001b[39;49m\u001b[43membed\u001b[49m\u001b[43m(\u001b[49m\u001b[43mtext\u001b[49m\u001b[43m)\u001b[49m \u001b[38;5;28;01mfor\u001b[39;00m text \u001b[38;5;129;01min\u001b[39;00m texts]\n\u001b[0;32m    112\u001b[0m     \u001b[38;5;28;01mreturn\u001b[39;00m [\u001b[38;5;28mlist\u001b[39m(\u001b[38;5;28mmap\u001b[39m(\u001b[38;5;28mfloat\u001b[39m, e)) \u001b[38;5;28;01mfor\u001b[39;00m e \u001b[38;5;129;01min\u001b[39;00m embeddings]\n",
      "File \u001b[1;32mc:\\ProgramData\\anaconda3\\envs\\loka_test_v2\\lib\\site-packages\\llama_cpp\\llama.py:812\u001b[0m, in \u001b[0;36mLlama.embed\u001b[1;34m(self, input)\u001b[0m\n\u001b[0;32m    803\u001b[0m \u001b[38;5;28;01mdef\u001b[39;00m \u001b[38;5;21membed\u001b[39m(\u001b[38;5;28mself\u001b[39m, \u001b[38;5;28minput\u001b[39m: \u001b[38;5;28mstr\u001b[39m) \u001b[38;5;241m-\u001b[39m\u001b[38;5;241m>\u001b[39m List[\u001b[38;5;28mfloat\u001b[39m]:\n\u001b[0;32m    804\u001b[0m \u001b[38;5;250m    \u001b[39m\u001b[38;5;124;03m\"\"\"Embed a string.\u001b[39;00m\n\u001b[0;32m    805\u001b[0m \n\u001b[0;32m    806\u001b[0m \u001b[38;5;124;03m    Args:\u001b[39;00m\n\u001b[1;32m   (...)\u001b[0m\n\u001b[0;32m    810\u001b[0m \u001b[38;5;124;03m        A list of embeddings\u001b[39;00m\n\u001b[0;32m    811\u001b[0m \u001b[38;5;124;03m    \"\"\"\u001b[39;00m\n\u001b[1;32m--> 812\u001b[0m     \u001b[38;5;28;01mreturn\u001b[39;00m \u001b[38;5;28mlist\u001b[39m(\u001b[38;5;28mmap\u001b[39m(\u001b[38;5;28mfloat\u001b[39m, \u001b[38;5;28;43mself\u001b[39;49m\u001b[38;5;241;43m.\u001b[39;49m\u001b[43mcreate_embedding\u001b[49m\u001b[43m(\u001b[49m\u001b[38;5;28;43minput\u001b[39;49m\u001b[43m)\u001b[49m[\u001b[38;5;124m\"\u001b[39m\u001b[38;5;124mdata\u001b[39m\u001b[38;5;124m\"\u001b[39m][\u001b[38;5;241m0\u001b[39m][\u001b[38;5;124m\"\u001b[39m\u001b[38;5;124membedding\u001b[39m\u001b[38;5;124m\"\u001b[39m]))\n",
      "File \u001b[1;32mc:\\ProgramData\\anaconda3\\envs\\loka_test_v2\\lib\\site-packages\\llama_cpp\\llama.py:776\u001b[0m, in \u001b[0;36mLlama.create_embedding\u001b[1;34m(self, input, model)\u001b[0m\n\u001b[0;32m    774\u001b[0m tokens \u001b[38;5;241m=\u001b[39m \u001b[38;5;28mself\u001b[39m\u001b[38;5;241m.\u001b[39mtokenize(\u001b[38;5;28minput\u001b[39m\u001b[38;5;241m.\u001b[39mencode(\u001b[38;5;124m\"\u001b[39m\u001b[38;5;124mutf-8\u001b[39m\u001b[38;5;124m\"\u001b[39m))\n\u001b[0;32m    775\u001b[0m \u001b[38;5;28mself\u001b[39m\u001b[38;5;241m.\u001b[39mreset()\n\u001b[1;32m--> 776\u001b[0m \u001b[38;5;28;43mself\u001b[39;49m\u001b[38;5;241;43m.\u001b[39;49m\u001b[43meval\u001b[49m\u001b[43m(\u001b[49m\u001b[43mtokens\u001b[49m\u001b[43m)\u001b[49m\n\u001b[0;32m    777\u001b[0m n_tokens \u001b[38;5;241m=\u001b[39m \u001b[38;5;28mlen\u001b[39m(tokens)\n\u001b[0;32m    778\u001b[0m total_tokens \u001b[38;5;241m+\u001b[39m\u001b[38;5;241m=\u001b[39m n_tokens\n",
      "File \u001b[1;32mc:\\ProgramData\\anaconda3\\envs\\loka_test_v2\\lib\\site-packages\\llama_cpp\\llama.py:471\u001b[0m, in \u001b[0;36mLlama.eval\u001b[1;34m(self, tokens)\u001b[0m\n\u001b[0;32m    469\u001b[0m     \u001b[38;5;28;01mraise\u001b[39;00m \u001b[38;5;167;01mRuntimeError\u001b[39;00m(\u001b[38;5;124mf\u001b[39m\u001b[38;5;124m\"\u001b[39m\u001b[38;5;124mllama_eval returned \u001b[39m\u001b[38;5;132;01m{\u001b[39;00mreturn_code\u001b[38;5;132;01m}\u001b[39;00m\u001b[38;5;124m\"\u001b[39m)\n\u001b[0;32m    470\u001b[0m \u001b[38;5;66;03m# Save tokens\u001b[39;00m\n\u001b[1;32m--> 471\u001b[0m \u001b[38;5;28;43mself\u001b[39;49m\u001b[38;5;241;43m.\u001b[39;49m\u001b[43minput_ids\u001b[49m\u001b[43m[\u001b[49m\u001b[38;5;28;43mself\u001b[39;49m\u001b[38;5;241;43m.\u001b[39;49m\u001b[43mn_tokens\u001b[49m\u001b[43m \u001b[49m\u001b[43m:\u001b[49m\u001b[43m \u001b[49m\u001b[38;5;28;43mself\u001b[39;49m\u001b[38;5;241;43m.\u001b[39;49m\u001b[43mn_tokens\u001b[49m\u001b[43m \u001b[49m\u001b[38;5;241;43m+\u001b[39;49m\u001b[43m \u001b[49m\u001b[43mn_tokens\u001b[49m\u001b[43m]\u001b[49m \u001b[38;5;241m=\u001b[39m batch\n\u001b[0;32m    472\u001b[0m \u001b[38;5;66;03m# Save logits\u001b[39;00m\n\u001b[0;32m    473\u001b[0m rows \u001b[38;5;241m=\u001b[39m n_tokens \u001b[38;5;28;01mif\u001b[39;00m \u001b[38;5;28mself\u001b[39m\u001b[38;5;241m.\u001b[39mparams\u001b[38;5;241m.\u001b[39mlogits_all \u001b[38;5;28;01melse\u001b[39;00m \u001b[38;5;241m1\u001b[39m\n",
      "\u001b[1;31mValueError\u001b[0m: could not broadcast input array from shape (8,) into shape (0,)"
     ]
    }
   ],
   "source": [
    "save_folder = \"D:\\\\Documents\\GitHub\\\\knowledge_pal_assistant\\\\2_outputs\\\\\"\n",
    "corpus_size = chunks.shape[0]\n",
    "batch_size = 50\n",
    "counter = 1\n",
    "dmb_df = pd.DataFrame()\n",
    "\n",
    "while corpus_size > 0:\n",
    "    print(corpus_size)\n",
    "\n",
    "    batch = chunks[(chunks[\"index\"] >= batch_size*(counter-1)) & (chunks[\"index\"] < batch_size*counter)][[\"id\", \"page_content\"]]\n",
    "    documents = batch[\"page_content\"].to_list()\n",
    "\n",
    "    # Embed texts\n",
    "    aws_embeddings = embeddings.embed_documents(documents)\n",
    "\n",
    "    # Checkpoint\n",
    "    batch_ids = batch[\"id\"].tolist()\n",
    "    dmb_df = pd.concat([dmb_df, pd.DataFrame.from_dict(dict(zip(batch_ids, [[e] for e in aws_embeddings])), orient='index', columns=[\"vect\"])])\n",
    "    vectorized_chunks = chunks.merge(dmb_df.reset_index(drop=False), how=\"inner\", left_on=\"id\", right_on=\"index\")\n",
    "    vectorized_chunks.to_parquet(save_folder + \"vectors_llama.parquet\", index = False, engine = \"pyarrow\", compression= \"brotli\")\n",
    "\n",
    "    # Control Parameters\n",
    "    corpus_size -= batch.shape[0]\n",
    "    counter += 1   "
   ]
  },
  {
   "cell_type": "code",
   "execution_count": 11,
   "metadata": {},
   "outputs": [
    {
     "data": {
      "text/plain": [
       "(800, 9)"
      ]
     },
     "execution_count": 11,
     "metadata": {},
     "output_type": "execute_result"
    }
   ],
   "source": [
    "vectorized_chunks.shape"
   ]
  },
  {
   "cell_type": "code",
   "execution_count": null,
   "metadata": {},
   "outputs": [],
   "source": []
  }
 ],
 "metadata": {
  "kernelspec": {
   "display_name": "loka_test",
   "language": "python",
   "name": "python3"
  },
  "language_info": {
   "codemirror_mode": {
    "name": "ipython",
    "version": 3
   },
   "file_extension": ".py",
   "mimetype": "text/x-python",
   "name": "python",
   "nbconvert_exporter": "python",
   "pygments_lexer": "ipython3",
   "version": "3.9.0"
  }
 },
 "nbformat": 4,
 "nbformat_minor": 2
}
