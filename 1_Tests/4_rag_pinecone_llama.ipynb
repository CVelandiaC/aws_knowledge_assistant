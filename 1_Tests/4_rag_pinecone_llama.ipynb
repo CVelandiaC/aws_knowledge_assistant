{
 "cells": [
  {
   "cell_type": "markdown",
   "id": "77448887-ed71-48e1-bf0d-2ff499d0c7ca",
   "metadata": {},
   "source": [
    "# Retrieval Augmented Generation\n",
    "Author: Cristian Velandia\n",
    "\n",
    "Creation Date: 2024-03-02\n",
    "\n",
    "RAG Using PINECONE vector DB, OpenAI chat gpt 3.5 and openai embeddings"
   ]
  },
  {
   "cell_type": "code",
   "execution_count": 1,
   "id": "30698fb9-4709-4088-9905-9ccb4efd5e09",
   "metadata": {
    "height": 166
   },
   "outputs": [
    {
     "name": "stderr",
     "output_type": "stream",
     "text": [
      "c:\\ProgramData\\anaconda3\\envs\\loka_test_v2\\lib\\site-packages\\pinecone\\data\\index.py:1: TqdmWarning: IProgress not found. Please update jupyter and ipywidgets. See https://ipywidgets.readthedocs.io/en/stable/user_install.html\n",
      "  from tqdm.autonotebook import tqdm\n"
     ]
    }
   ],
   "source": [
    "from pinecone import Pinecone, ServerlessSpec\n",
    "from llama_cpp import Llama\n",
    "from tqdm.auto import tqdm\n",
    "import pandas as pd\n",
    "import json\n",
    "\n",
    "from langchain.embeddings import LlamaCppEmbeddings\n",
    "from llama_cpp import Llama\n"
   ]
  },
  {
   "cell_type": "code",
   "execution_count": 58,
   "id": "8ab484bb-3bfb-4c52-a5bd-bcbe4a7a63d2",
   "metadata": {
    "height": 30
   },
   "outputs": [],
   "source": [
    "# get api keys\n",
    "creds =json.load(open('personal_creds.json'))\n",
    "\n",
    "PINECONE_API_KEY = creds[\"PINECONE_API_KEY\"]"
   ]
  },
  {
   "cell_type": "markdown",
   "id": "ba92fc2d",
   "metadata": {},
   "source": [
    "## Setup Pinecone\n",
    "### Log into API"
   ]
  },
  {
   "cell_type": "code",
   "execution_count": 3,
   "id": "ce859e4b-9b50-4f53-b357-28d3e3872c87",
   "metadata": {
    "height": 30
   },
   "outputs": [],
   "source": [
    "pinecone = Pinecone(api_key=PINECONE_API_KEY)\n",
    "\n",
    "# Dfine unique and readable index name\n",
    "INDEX_NAME = 'aws-docs-vdb-index'"
   ]
  },
  {
   "cell_type": "markdown",
   "id": "f483bf81",
   "metadata": {},
   "source": [
    "### Create Index for Vector storage"
   ]
  },
  {
   "cell_type": "code",
   "execution_count": 4,
   "id": "1cffb406",
   "metadata": {},
   "outputs": [],
   "source": [
    "# Check if index already exists and deletes it\n",
    "if INDEX_NAME in [index.name for index in pinecone.list_indexes()]:\n",
    "  pinecone.delete_index(INDEX_NAME)\n",
    "\n",
    "# Recreates index, after creation it is visible at the consle\n",
    "pinecone.create_index(name = INDEX_NAME, dimension = 4096, metric = 'cosine',  spec = ServerlessSpec(cloud = 'aws', region = 'us-west-2')) "
   ]
  },
  {
   "cell_type": "code",
   "execution_count": 4,
   "id": "f512d695",
   "metadata": {},
   "outputs": [],
   "source": [
    "#Create index object\n",
    "index = pinecone.Index(INDEX_NAME)"
   ]
  },
  {
   "cell_type": "markdown",
   "id": "a56d410b",
   "metadata": {},
   "source": [
    "### Load Previously Created Dataset\n",
    "Here we load the dataset with the crpus and vectors to upload them after into pinecone (upsert)"
   ]
  },
  {
   "cell_type": "code",
   "execution_count": 5,
   "id": "ef8df87e",
   "metadata": {},
   "outputs": [],
   "source": [
    "data_path = r\"D:\\Documents\\GitHub\\knowledge_pal_assistant\\2_outputs\\vectors_llama.parquet\"\n",
    "vectors = pd.read_parquet(data_path, engine = \"pyarrow\")"
   ]
  },
  {
   "cell_type": "code",
   "execution_count": 6,
   "id": "12f20fd7",
   "metadata": {},
   "outputs": [
    {
     "data": {
      "text/html": [
       "<div>\n",
       "<style scoped>\n",
       "    .dataframe tbody tr th:only-of-type {\n",
       "        vertical-align: middle;\n",
       "    }\n",
       "\n",
       "    .dataframe tbody tr th {\n",
       "        vertical-align: top;\n",
       "    }\n",
       "\n",
       "    .dataframe thead th {\n",
       "        text-align: right;\n",
       "    }\n",
       "</style>\n",
       "<table border=\"1\" class=\"dataframe\">\n",
       "  <thead>\n",
       "    <tr style=\"text-align: right;\">\n",
       "      <th></th>\n",
       "      <th>index_x</th>\n",
       "      <th>id</th>\n",
       "      <th>page_content</th>\n",
       "      <th>metadata</th>\n",
       "      <th>tokens</th>\n",
       "      <th>nostopw_page_content</th>\n",
       "      <th>token_length</th>\n",
       "      <th>index_y</th>\n",
       "      <th>vect</th>\n",
       "    </tr>\n",
       "  </thead>\n",
       "  <tbody>\n",
       "    <tr>\n",
       "      <th>0</th>\n",
       "      <td>0</td>\n",
       "      <td>0-0</td>\n",
       "      <td># AWS::Events::Rule SageMakerPipelineParameter...</td>\n",
       "      <td>{'Header 1': 'AWS::Events::Rule SageMakerPipel...</td>\n",
       "      <td>[#, AWS, :, :Events, :, :Rule, SageMakerPipeli...</td>\n",
       "      <td># AWS : :Events : :Rule SageMakerPipelineParam...</td>\n",
       "      <td>39</td>\n",
       "      <td>0-0</td>\n",
       "      <td>[0.884236752986908, 0.244439959526062, -0.5611...</td>\n",
       "    </tr>\n",
       "    <tr>\n",
       "      <th>1</th>\n",
       "      <td>1</td>\n",
       "      <td>0-1</td>\n",
       "      <td>## Syntax&lt;a name=\"aws-properties-events-rule-s...</td>\n",
       "      <td>{'Header 1': 'AWS::Events::Rule SageMakerPipel...</td>\n",
       "      <td>[#, #, Syntax, &lt;, a, name=, '', aws-properties...</td>\n",
       "      <td># # Syntax &lt; name= '' aws-properties-events-ru...</td>\n",
       "      <td>114</td>\n",
       "      <td>0-1</td>\n",
       "      <td>[0.2725246548652649, -1.0039860010147095, 0.70...</td>\n",
       "    </tr>\n",
       "    <tr>\n",
       "      <th>2</th>\n",
       "      <td>2</td>\n",
       "      <td>0-2</td>\n",
       "      <td>## Properties&lt;a name=\"aws-properties-events-ru...</td>\n",
       "      <td>{'Header 1': 'AWS::Events::Rule SageMakerPipel...</td>\n",
       "      <td>[#, #, Properties, &lt;, a, name=, '', aws-proper...</td>\n",
       "      <td># # Properties &lt; name= '' aws-properties-event...</td>\n",
       "      <td>164</td>\n",
       "      <td>0-2</td>\n",
       "      <td>[0.5978015661239624, -0.12955200672149658, -1....</td>\n",
       "    </tr>\n",
       "    <tr>\n",
       "      <th>3</th>\n",
       "      <td>3</td>\n",
       "      <td>1-0</td>\n",
       "      <td># Automating Amazon SageMaker with Amazon Even...</td>\n",
       "      <td>{'Header 1': 'Automating Amazon SageMaker with...</td>\n",
       "      <td>[#, Automating, Amazon, SageMaker, with, Amazo...</td>\n",
       "      <td># Automating Amazon SageMaker Amazon EventBrid...</td>\n",
       "      <td>315</td>\n",
       "      <td>1-0</td>\n",
       "      <td>[-1.2290796041488647, -0.8195071816444397, -0....</td>\n",
       "    </tr>\n",
       "    <tr>\n",
       "      <th>4</th>\n",
       "      <td>4</td>\n",
       "      <td>1-1</td>\n",
       "      <td>## Training job state change&lt;a name=\"eventbrid...</td>\n",
       "      <td>{'Header 1': 'Automating Amazon SageMaker with...</td>\n",
       "      <td>[#, #, Training, job, state, change, &lt;, a, nam...</td>\n",
       "      <td># # Training job state change &lt; name= '' event...</td>\n",
       "      <td>445</td>\n",
       "      <td>1-1</td>\n",
       "      <td>[1.082711935043335, 1.3398343324661255, -0.037...</td>\n",
       "    </tr>\n",
       "  </tbody>\n",
       "</table>\n",
       "</div>"
      ],
      "text/plain": [
       "   index_x   id                                       page_content  \\\n",
       "0        0  0-0  # AWS::Events::Rule SageMakerPipelineParameter...   \n",
       "1        1  0-1  ## Syntax<a name=\"aws-properties-events-rule-s...   \n",
       "2        2  0-2  ## Properties<a name=\"aws-properties-events-ru...   \n",
       "3        3  1-0  # Automating Amazon SageMaker with Amazon Even...   \n",
       "4        4  1-1  ## Training job state change<a name=\"eventbrid...   \n",
       "\n",
       "                                            metadata  \\\n",
       "0  {'Header 1': 'AWS::Events::Rule SageMakerPipel...   \n",
       "1  {'Header 1': 'AWS::Events::Rule SageMakerPipel...   \n",
       "2  {'Header 1': 'AWS::Events::Rule SageMakerPipel...   \n",
       "3  {'Header 1': 'Automating Amazon SageMaker with...   \n",
       "4  {'Header 1': 'Automating Amazon SageMaker with...   \n",
       "\n",
       "                                              tokens  \\\n",
       "0  [#, AWS, :, :Events, :, :Rule, SageMakerPipeli...   \n",
       "1  [#, #, Syntax, <, a, name=, '', aws-properties...   \n",
       "2  [#, #, Properties, <, a, name=, '', aws-proper...   \n",
       "3  [#, Automating, Amazon, SageMaker, with, Amazo...   \n",
       "4  [#, #, Training, job, state, change, <, a, nam...   \n",
       "\n",
       "                                nostopw_page_content  token_length index_y  \\\n",
       "0  # AWS : :Events : :Rule SageMakerPipelineParam...            39     0-0   \n",
       "1  # # Syntax < name= '' aws-properties-events-ru...           114     0-1   \n",
       "2  # # Properties < name= '' aws-properties-event...           164     0-2   \n",
       "3  # Automating Amazon SageMaker Amazon EventBrid...           315     1-0   \n",
       "4  # # Training job state change < name= '' event...           445     1-1   \n",
       "\n",
       "                                                vect  \n",
       "0  [0.884236752986908, 0.244439959526062, -0.5611...  \n",
       "1  [0.2725246548652649, -1.0039860010147095, 0.70...  \n",
       "2  [0.5978015661239624, -0.12955200672149658, -1....  \n",
       "3  [-1.2290796041488647, -0.8195071816444397, -0....  \n",
       "4  [1.082711935043335, 1.3398343324661255, -0.037...  "
      ]
     },
     "execution_count": 6,
     "metadata": {},
     "output_type": "execute_result"
    }
   ],
   "source": [
    "vectors.head()"
   ]
  },
  {
   "cell_type": "code",
   "execution_count": 7,
   "id": "bf2411f2",
   "metadata": {},
   "outputs": [],
   "source": [
    "#clean meta, do not include headers\n",
    "def pop_keys(d, key):\n",
    "    tmp = d.copy()\n",
    "    tmp.pop(key)\n",
    "    return tmp\n",
    "\n",
    "vectors[\"metadata\"] = vectors[\"metadata\"].apply(pop_keys, args = ([\"Header 1\"])) \n",
    "vectors[\"metadata\"] = vectors[\"metadata\"].apply(pop_keys, args = ([\"Header 2\"])) "
   ]
  },
  {
   "cell_type": "code",
   "execution_count": 8,
   "id": "acff9acb",
   "metadata": {},
   "outputs": [
    {
     "data": {
      "text/plain": [
       "{'chunk': 0,\n",
       " 'source': 'D:\\\\Documents\\\\GitHub\\\\knowledge_pal_assistant\\\\0_data\\\\aws-properties-events-rule-sagemakerpipelineparameter.md',\n",
       " 'text': '# AWS::Events::Rule SageMakerPipelineParameter<a name=\"aws-properties-events-rule-sagemakerpipelineparameter\"></a>  \\nName/Value pair of a parameter to start execution of a SageMaker Model Building Pipeline\\\\.\\n \\'data source =  D:\\\\Documents\\\\GitHub\\\\knowledge_pal_assistant\\\\0_data\\\\aws-properties-events-rule-sagemakerpipelineparameter.md\\''}"
      ]
     },
     "execution_count": 8,
     "metadata": {},
     "output_type": "execute_result"
    }
   ],
   "source": [
    "vectors[\"metadata\"][0]"
   ]
  },
  {
   "cell_type": "markdown",
   "id": "ab3c0402",
   "metadata": {},
   "source": [
    "### Upsert embeddings to Pinecone "
   ]
  },
  {
   "cell_type": "code",
   "execution_count": 9,
   "id": "5fb67759-ab38-4472-bfb0-4a56d1c05955",
   "metadata": {
    "height": 81
   },
   "outputs": [
    {
     "name": "stderr",
     "output_type": "stream",
     "text": [
      "100%|██████████| 800/800 [00:17<00:00, 46.74it/s]\n"
     ]
    }
   ],
   "source": [
    "# Create list for batching the upload\n",
    "prepped = []\n",
    "\n",
    "# Iterate through data\n",
    "for i, row in tqdm(vectors.iterrows(), total=vectors.shape[0]):\n",
    "\n",
    "    prepped.append({'id' : row['id'], 'values' : row['vect'], 'metadata' : row['metadata']})\n",
    "\n",
    "    if len(prepped) >= 100:\n",
    "        index.upsert(prepped) #Upsert a batch of 200 vectors\n",
    "        prepped = []\n"
   ]
  },
  {
   "cell_type": "code",
   "execution_count": 9,
   "id": "d90ec5ec-5397-4ed5-8163-7a901b6ecb0c",
   "metadata": {
    "height": 64
   },
   "outputs": [
    {
     "data": {
      "text/plain": [
       "{'dimension': 4096,\n",
       " 'index_fullness': 0.0,\n",
       " 'namespaces': {'': {'vector_count': 800}},\n",
       " 'total_vector_count': 800}"
      ]
     },
     "execution_count": 9,
     "metadata": {},
     "output_type": "execute_result"
    }
   ],
   "source": [
    "#Descripe uploaded index\n",
    "index.describe_index_stats()"
   ]
  },
  {
   "cell_type": "markdown",
   "id": "1780a189",
   "metadata": {},
   "source": [
    "### Augment Llama Chat Queries \n",
    "Trhough this section the embeddings and calls to the LLM are performed, after, the prompts are built and tested. Here we will test the RAG with the test questions provided "
   ]
  },
  {
   "cell_type": "code",
   "execution_count": 2,
   "id": "b3e3a94e-127f-4667-a9ae-7a17d7304ee6",
   "metadata": {
    "height": 43
   },
   "outputs": [
    {
     "name": "stderr",
     "output_type": "stream",
     "text": [
      "AVX = 1 | AVX2 = 1 | AVX512 = 0 | AVX512_VBMI = 0 | AVX512_VNNI = 0 | FMA = 1 | NEON = 0 | ARM_FMA = 0 | F16C = 1 | FP16_VA = 0 | WASM_SIMD = 0 | BLAS = 1 | SSE3 = 1 | VSX = 0 | \n",
      "AVX = 1 | AVX2 = 1 | AVX512 = 0 | AVX512_VBMI = 0 | AVX512_VNNI = 0 | FMA = 1 | NEON = 0 | ARM_FMA = 0 | F16C = 1 | FP16_VA = 0 | WASM_SIMD = 0 | BLAS = 1 | SSE3 = 1 | VSX = 0 | \n"
     ]
    }
   ],
   "source": [
    "models_folder = \".\\\\hf_models\"\n",
    "model_name = \"TheBloke/Llama-2-7B-Chat-GGML\"\n",
    "model_filename = \"llama-2-7b-chat.ggmlv3.q4_K_M.bin\"\n",
    "llama_model_path = f\"{models_folder}\\\\{model_filename}\"\n",
    "\n",
    "llm_model = Llama(llama_model_path, n_ctx = 4096)\n",
    "emb_model = LlamaCppEmbeddings(model_path = llama_model_path, n_ctx = 4096, n_gpu_layers = 5) # Instance model with GPU "
   ]
  },
  {
   "cell_type": "code",
   "execution_count": 11,
   "id": "a2206b00",
   "metadata": {},
   "outputs": [],
   "source": [
    "# First step, get all the relevant infromation from the vector DB (this will be the question that the user will ask)\n",
    "query = \"What are all AWS regions where SageMaker is available?\"\n",
    "\n",
    "embs = emb_model.embed_query(query)"
   ]
  },
  {
   "cell_type": "code",
   "execution_count": 48,
   "id": "7b7033b3",
   "metadata": {},
   "outputs": [
    {
     "name": "stdout",
     "output_type": "stream",
     "text": [
      "# AWS::SageMaker::ModelCard<a name=\"aws-resource-sagemaker-modelcard\"></a>  \n",
      "Creates an Amazon SageMaker Model Card\\.  \n",
      "For information about how to use model cards, see [Amazon SageMaker Model Card](https://docs.aws.amazon.com/sagemaker/latest/dg/model-cards.html)\\.\n",
      " 'data source =  D:\\Documents\\GitHub\\knowledge_pal_assistant\\0_data\\aws-resource-sagemaker-modelcard.md'\n",
      "## Syntax<a name=\"aws-properties-sagemaker-modelpackage-metadataproperties-syntax\"></a>  \n",
      "To declare this entity in your AWS CloudFormation template, use the following syntax:  \n",
      "### JSON<a name=\"aws-properties-sagemaker-modelpackage-metadataproperties-syntax.json\"></a>  \n",
      "```\n",
      "{\n",
      "\"[CommitId](#cfn-sagemaker-modelpackage-metadataproperties-commitid)\" : String,\n",
      "\"[GeneratedBy](#cfn-sagemaker-modelpackage-metadataproperties-generatedby)\" : String,\n",
      "\"[ProjectId](#cfn-sagemaker-modelpackage-metadataproperties-projectid)\" : String,\n",
      "\"[Repository](#cfn-sagemaker-modelpackage-metadataproperties-repository)\" : String\n",
      "}\n",
      "```  \n",
      "### YAML<a name=\"aws-properties-sagemaker-modelpackage-metadataproperties-syntax.yaml\"></a>  \n",
      "```\n",
      "[CommitId](#cfn-sagemaker-modelpackage-metadataproperties-commitid): String\n",
      "[GeneratedBy](#cfn-sagemaker-modelpackage-metadataproperties-generatedby): String\n",
      "[ProjectId](#cfn-sagemaker-modelpackage-metadataproperties-projectid): String\n",
      "[Repository](#cfn-sagemaker-modelpackage-metadataproperties-repository): String\n",
      "```\n",
      " 'data source =  D:\\Documents\\GitHub\\knowledge_pal_assistant\\0_data\\aws-properties-sagemaker-modelpackage-metadataproperties.md'\n",
      "# AWS::SageMaker::ModelExplainabilityJobDefinition MonitoringOutput<a name=\"aws-properties-sagemaker-modelexplainabilityjobdefinition-monitoringoutput\"></a>  \n",
      "The output object for a monitoring job\\.\n",
      " 'data source =  D:\\Documents\\GitHub\\knowledge_pal_assistant\\0_data\\aws-properties-sagemaker-modelexplainabilityjobdefinition-monitoringoutput.md'\n"
     ]
    }
   ],
   "source": [
    "res = index.query(vector = embs, top_k = 3, include_metadata = True)\n",
    "\n",
    "context = [r['metadata']['text'] for r in res['matches']]\n",
    "\n",
    "print('\\n'.join(context)) #Visualize output\n"
   ]
  },
  {
   "cell_type": "code",
   "execution_count": 53,
   "id": "3ecc39c8",
   "metadata": {},
   "outputs": [],
   "source": [
    "BOS, EOS = \"<s>\", \"</s>\"\n",
    "B_INST, E_INST = \"[INST]\", \"[/INST]\"\n",
    "B_SYS, E_SYS = \"<<SYS>>\\n\", \"\\n<</SYS>>\\n\\n\"\n",
    "SYSTEM_BEHAVIOR = \"\"\"You are \"Knowledge pal\", an assistant for developers. Your role consists on answering questions about cloud services, coding in different languages, and provide a detailed response everytime. You will provide the source of the answer you are giving and related sources. Those sources can be a path or URL. Answer the question by combining your knowledge with the context provided. If information is not clear or the context is not enough to give an answer, tell the user that you don't have the answer. \\n\\n \"\"\""
   ]
  },
  {
   "cell_type": "code",
   "execution_count": 54,
   "id": "131ef73a",
   "metadata": {},
   "outputs": [
    {
     "name": "stdout",
     "output_type": "stream",
     "text": [
      "[INST]<<SYS>>\n",
      "You are \"Knowledge pal\", an assistant for developers. Your role consists on answering questions about cloud services, coding in different languages, and provide a detailed response everytime. You will provide the source of the answer you are giving and related sources. Those sources can be a path or URL. Answer the question by combining your knowledge with the context provided. If information is not clear or the context is not enough to give an answer, tell the user that you don't have the answer. \n",
      "\n",
      " Context: # AWS::SageMaker::ModelCard<a name=\"aws-resource-sagemaker-modelcard\"></a>  \n",
      "Creates an Amazon SageMaker Model Card\\.  \n",
      "For information about how to use model cards, see [Amazon SageMaker Model Card](https://docs.aws.amazon.com/sagemaker/latest/dg/model-cards.html)\\.\n",
      " 'data source =  D:\\Documents\\GitHub\\knowledge_pal_assistant\\0_data\\aws-resource-sagemaker-modelcard.md'\n",
      "## Syntax<a name=\"aws-properties-sagemaker-modelpackage-metadataproperties-syntax\"></a>  \n",
      "To declare this entity in your AWS CloudFormation template, use the following syntax:  \n",
      "### JSON<a name=\"aws-properties-sagemaker-modelpackage-metadataproperties-syntax.json\"></a>  \n",
      "```\n",
      "{\n",
      "\"[CommitId](#cfn-sagemaker-modelpackage-metadataproperties-commitid)\" : String,\n",
      "\"[GeneratedBy](#cfn-sagemaker-modelpackage-metadataproperties-generatedby)\" : String,\n",
      "\"[ProjectId](#cfn-sagemaker-modelpackage-metadataproperties-projectid)\" : String,\n",
      "\"[Repository](#cfn-sagemaker-modelpackage-metadataproperties-repository)\" : String\n",
      "}\n",
      "```  \n",
      "### YAML<a name=\"aws-properties-sagemaker-modelpackage-metadataproperties-syntax.yaml\"></a>  \n",
      "```\n",
      "[CommitId](#cfn-sagemaker-modelpackage-metadataproperties-commitid): String\n",
      "[GeneratedBy](#cfn-sagemaker-modelpackage-metadataproperties-generatedby): String\n",
      "[ProjectId](#cfn-sagemaker-modelpackage-metadataproperties-projectid): String\n",
      "[Repository](#cfn-sagemaker-modelpackage-metadataproperties-repository): String\n",
      "```\n",
      " 'data source =  D:\\Documents\\GitHub\\knowledge_pal_assistant\\0_data\\aws-properties-sagemaker-modelpackage-metadataproperties.md'\n",
      "# AWS::SageMaker::ModelExplainabilityJobDefinition MonitoringOutput<a name=\"aws-properties-sagemaker-modelexplainabilityjobdefinition-monitoringoutput\"></a>  \n",
      "The output object for a monitoring job\\.\n",
      " 'data source =  D:\\Documents\\GitHub\\knowledge_pal_assistant\\0_data\\aws-properties-sagemaker-modelexplainabilityjobdefinition-monitoringoutput.md'\n",
      "<</SYS>>\n",
      "\n",
      "Question: What are all AWS regions where SageMaker is available? Answer: [/INST]\n"
     ]
    }
   ],
   "source": [
    "message = B_INST + B_SYS + SYSTEM_BEHAVIOR + \"Context: \" + '\\n'.join(context) + E_SYS + \"Question: \" + query + \" Answer: \" + E_INST\n",
    "print(message)"
   ]
  },
  {
   "cell_type": "code",
   "execution_count": 55,
   "id": "6d07cbf0",
   "metadata": {},
   "outputs": [
    {
     "name": "stderr",
     "output_type": "stream",
     "text": [
      "Llama.generate: prefix-match hit\n"
     ]
    }
   ],
   "source": [
    "knowledge_pal_response_gen = llm_model(prompt = message, stream = False, temperature = 0.2, top_p = 0.6, max_tokens = 512, stop = None)"
   ]
  },
  {
   "cell_type": "code",
   "execution_count": 56,
   "id": "5767fd60",
   "metadata": {},
   "outputs": [
    {
     "name": "stdout",
     "output_type": "stream",
     "text": [
      "  As Knowledge Pal, I can provide you with a comprehensive list of AWS regions where Amazon SageMaker is available. Here are the regions where SageMaker is supported:\n",
      "1. US East (N. Virginia)\n",
      "2. US West (Oregon)\n",
      "3. EU (Ireland)\n",
      "4. EU (Frankfurt)\n",
      "5. Asia Pacific (Singapore)\n",
      "6. Asia Pacific (Tokyo)\n",
      "7. Australia (Sydney)\n",
      "8. Brazil (São Paulo)\n",
      "9. Canada (Toronto)\n",
      "10. China (Beijing)\n",
      "11. India (Mumbai)\n",
      "12. Japan (Tokyo)\n",
      "13. Korea (Seoul)\n",
      "14. Middle East (Bahrain)\n",
      "15. Middle East (Dubai)\n",
      "16. South Africa (Cape Town)\n",
      "17. UK (London)\n",
      "18. US East (N. Virginia)\n",
      "\n",
      "Note that this list may not be exhaustive, and AWS may add or remove regions for SageMaker support in the future. It's always a good idea to check the official AWS documentation for the most up-to-date information on SageMaker availability in different regions.\n"
     ]
    }
   ],
   "source": [
    "print(knowledge_pal_response_gen[\"choices\"][0][\"text\"])"
   ]
  },
  {
   "cell_type": "code",
   "execution_count": 80,
   "id": "a11d33ec",
   "metadata": {},
   "outputs": [
    {
     "name": "stderr",
     "output_type": "stream",
     "text": [
      "Llama.generate: prefix-match hit\n"
     ]
    },
    {
     "name": "stdout",
     "output_type": "stream",
     "text": [
      "--------------------------------------------------------------------------------\n",
      "  Great, I'm glad you asked! To check if an endpoint is KMS encrypted in AWS SageMaker, you can use the `sagemaker-dataqualityjobdefinition` or `sagemaker-modelbiasjobdefinition` API.\n",
      "Here's how to do it:\n",
      "1. First, make sure that you have the necessary permissions to access the endpoint. You can check the permissions by using the `IAM` service in AWS CLI or SDKs.\n",
      "2. Use the `sagemaker-dataqualityjobdefinition` or `sagemaker-modelbiasjobdefinition` API to create a data quality monitoring job or model bias job, respectively. You can use the `create_job()` method of the API to create the job.\n",
      "3. In the request body of the API call, include the `EncryptionConfiguration` parameter with the `KmsKeyId` set to the ID of the KMS key that you want to use for encryption. You can find the KMS key ID in the AWS Management Console or using the `aws sagemaker describe-key` command.\n",
      "4. Once the job is created, you can check the `EncryptionConfiguration` parameter in the job details to see if the endpoint is KMS encrypted. The `EncryptionConfiguration` parameter will be present only if the endpoint is KMS encrypted.\n",
      "Here's an example of how to create a data quality monitoring job using the `sagemaker-dataqualityjobdefinition` API and check if the endpoint is KMS encrypted:\n",
      "```python\n",
      "import boto3\n",
      "# Create a SageMaker client\n",
      "sagemaker = boto3.client('sagemaker')\n",
      "# Create a data quality monitoring job\n",
      "create_job_request = {\n",
      "'JobName': 'data_quality_monitoring_job',\n",
      "'DataQualityInputConfig': {\n",
      "'S3DataQualityInput': {\n",
      "'S3Bucket': 'my-bucket',\n",
      "'S3ObjectKey': 'path/to/data.csv'\n",
      "},\n",
      "'EncryptionConfiguration': {\n",
      "'KmsKeyId': 'arn:aws:kms:us-east-1:123456789012:key/my-key',\n",
      "\n",
      "}\n",
      "sagemaker.create_job(CreateJobRequest=create_job_request)\n",
      "\n",
      "# Check if the\n"
     ]
    }
   ],
   "source": [
    "# Code for streaming=True\n",
    "knowledge_pal_response = \"\".join([c[\"choices\"][0][\"text\"] for c in knowledge_pal_response_gen])\n",
    "print('-' * 80)\n",
    "print(knowledge_pal_response)"
   ]
  },
  {
   "cell_type": "code",
   "execution_count": null,
   "id": "a908664e",
   "metadata": {},
   "outputs": [],
   "source": [
    "# Chat Helper for messaging"
   ]
  }
 ],
 "metadata": {
  "kernelspec": {
   "display_name": "Python 3 (ipykernel)",
   "language": "python",
   "name": "python3"
  },
  "language_info": {
   "codemirror_mode": {
    "name": "ipython",
    "version": 3
   },
   "file_extension": ".py",
   "mimetype": "text/x-python",
   "name": "python",
   "nbconvert_exporter": "python",
   "pygments_lexer": "ipython3",
   "version": "3.9.0"
  }
 },
 "nbformat": 4,
 "nbformat_minor": 5
}
