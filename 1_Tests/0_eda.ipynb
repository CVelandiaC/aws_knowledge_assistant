{
 "cells": [
  {
   "cell_type": "markdown",
   "metadata": {},
   "source": [
    "## Exploratory Data Analysis of the AWS documentation\n",
    "\n",
    "**Author:** Cristian C. Velandia C.\n",
    "\n",
    "**Creation Date:** 2024-03-01\n",
    "\n",
    "This EDA consists on inspecting the different types of markdown files that can be encountered. This analysis helps to identify and select the most suitable straregy to chunk the data for RAG. "
   ]
  },
  {
   "cell_type": "code",
   "execution_count": 128,
   "metadata": {},
   "outputs": [],
   "source": [
    "# Clean file names to avoid spaces on them\n",
    "import os\n",
    "for f in os.listdir(r\"D:\\Documents\\GitHub\\knowledge_pal_assistant\\0_data\"):\n",
    "    r = f.replace(\" \",\"\")\n",
    "    if(r != f):\n",
    "        os.rename(f,r)"
   ]
  },
  {
   "cell_type": "markdown",
   "metadata": {},
   "source": [
    "### Check data with markdwon loader"
   ]
  },
  {
   "cell_type": "code",
   "execution_count": 129,
   "metadata": {},
   "outputs": [],
   "source": [
    "from langchain_community.document_loaders import UnstructuredMarkdownLoader"
   ]
  },
  {
   "cell_type": "code",
   "execution_count": 130,
   "metadata": {},
   "outputs": [],
   "source": [
    "markdown_path = r\"D:\\Documents\\GitHub\\knowledge_pal_assistant\\0_data\\amazon-sagemaker-toolkits.md\"\n",
    "loader = UnstructuredMarkdownLoader(markdown_path)"
   ]
  },
  {
   "cell_type": "code",
   "execution_count": 131,
   "metadata": {},
   "outputs": [],
   "source": [
    "data = loader.load()"
   ]
  },
  {
   "cell_type": "code",
   "execution_count": 132,
   "metadata": {},
   "outputs": [
    {
     "data": {
      "text/plain": [
       "[Document(page_content=\"Using the SageMaker Training and Inference Toolkits\\n\\nThe SageMaker Training and SageMaker Inference toolkits implement the functionality that you need to adapt your containers to run scripts, train algorithms, and deploy models on SageMaker. When installed, the library defines the following for users:\\n+ The locations for storing code and other resources. \\n+ The entry point that contains the code to run when the container is started. Your Dockerfile must copy the code that needs to be run into the location expected by a container that is compatible with SageMaker. \\n+ Other information that a container needs to manage deployments for training and inference.\\n\\nSageMaker Toolkits Containers Structure\\n\\nWhen SageMaker trains a model, it creates the following file folder structure in the container's /opt/ml directory.\\n\\n/opt/ml\\n├── input\\n│   ├── config\\n│   │   ├── hyperparameters.json\\n│   │   └── resourceConfig.json\\n│   └── data\\n│       └── <channel_name>\\n│           └── <input data>\\n├── model\\n│\\n├── code\\n│\\n├── output\\n│\\n└── failure\\n\\nUse Your Own Training Algorithms.\\n\\nWhen you host a trained model on SageMaker to make inferences, you deploy the model to an HTTP endpoint. The model makes real-time predictions in response to inference requests. The container must contain a serving stack to process these requests.\\n\\nIn a hosting or batch transform container, the model files are located in the same folder to which they were written during training.\\n\\n/opt/ml/model\\n│\\n└── <model files>\\n\\nFor more information, see Use your own inference code.\\n\\nSingle Versus Multiple Containers\\n\\nYou can either provide separate Docker images for the training algorithm and inference code or you can use a single Docker image for both. When creating Docker images for use with SageMaker, consider the following:\\n+ Providing two Docker images can increase storage requirements and cost because common libraries might be duplicated.\\n+ In general, smaller containers start faster for both training and hosting. Models train faster and the hosting service can react to increases in traffic by automatically scaling more quickly.\\n+ You might be able to write an inference container that is significantly smaller than the training container. This is especially common when you use GPUs for training, but your inference code is optimized for CPUs.\\n+ SageMaker requires that Docker containers run without privileged access.\\n+ Both Docker containers that you build and those provided by SageMaker can send messages to the Stdout and Stderr files. SageMaker sends these messages to Amazon CloudWatch logs in your AWS account.\\n\\nFor more information about how to create SageMaker containers and how scripts are executed inside them, see the SageMaker Training Toolkit and SageMaker Inference Toolkit repositories on GitHub. They also provide lists of important environmental variables and the environmental variables provided by SageMaker containers.\", metadata={'source': 'D:\\\\Documents\\\\GitHub\\\\knowledge_pal_assistant\\\\0_data\\\\amazon-sagemaker-toolkits.md'})]"
      ]
     },
     "execution_count": 132,
     "metadata": {},
     "output_type": "execute_result"
    }
   ],
   "source": [
    "data"
   ]
  },
  {
   "cell_type": "code",
   "execution_count": 133,
   "metadata": {},
   "outputs": [
    {
     "data": {
      "text/plain": [
       "\"Using the SageMaker Training and Inference Toolkits\\n\\nThe SageMaker Training and SageMaker Inference toolkits implement the functionality that you need to adapt your containers to run scripts, train algorithms, and deploy models on SageMaker. When installed, the library defines the following for users:\\n+ The locations for storing code and other resources. \\n+ The entry point that contains the code to run when the container is started. Your Dockerfile must copy the code that needs to be run into the location expected by a container that is compatible with SageMaker. \\n+ Other information that a container needs to manage deployments for training and inference.\\n\\nSageMaker Toolkits Containers Structure\\n\\nWhen SageMaker trains a model, it creates the following file folder structure in the container's /opt/ml directory.\\n\\n/opt/ml\\n├── input\\n│   ├── config\\n│   │   ├── hyperparameters.json\\n│   │   └── resourceConfig.json\\n│   └── data\\n│       └── <channel_name>\\n│           └── <input data>\\n├── model\\n│\\n├── code\\n│\\n├── output\\n│\\n└── failure\\n\\nUse Your Own Training Algorithms.\\n\\nWhen you host a trained model on SageMaker to make inferences, you deploy the model to an HTTP endpoint. The model makes real-time predictions in response to inference requests. The container must contain a serving stack to process these requests.\\n\\nIn a hosting or batch transform container, the model files are located in the same folder to which they were written during training.\\n\\n/opt/ml/model\\n│\\n└── <model files>\\n\\nFor more information, see Use your own inference code.\\n\\nSingle Versus Multiple Containers\\n\\nYou can either provide separate Docker images for the training algorithm and inference code or you can use a single Docker image for both. When creating Docker images for use with SageMaker, consider the following:\\n+ Providing two Docker images can increase storage requirements and cost because common libraries might be duplicated.\\n+ In general, smaller containers start faster for both training and hosting. Models train faster and the hosting service can react to increases in traffic by automatically scaling more quickly.\\n+ You might be able to write an inference container that is significantly smaller than the training container. This is especially common when you use GPUs for training, but your inference code is optimized for CPUs.\\n+ SageMaker requires that Docker containers run without privileged access.\\n+ Both Docker containers that you build and those provided by SageMaker can send messages to the Stdout and Stderr files. SageMaker sends these messages to Amazon CloudWatch logs in your AWS account.\\n\\nFor more information about how to create SageMaker containers and how scripts are executed inside them, see the SageMaker Training Toolkit and SageMaker Inference Toolkit repositories on GitHub. They also provide lists of important environmental variables and the environmental variables provided by SageMaker containers.\""
      ]
     },
     "execution_count": 133,
     "metadata": {},
     "output_type": "execute_result"
    }
   ],
   "source": [
    "data[0].page_content"
   ]
  },
  {
   "cell_type": "code",
   "execution_count": 134,
   "metadata": {},
   "outputs": [],
   "source": [
    "markdown_path1 = r\"D:\\Documents\\GitHub\\knowledge_pal_assistant\\0_data\\aws-properties-events-rule-sagemakerpipelineparameter.md\"\n",
    "loader1 = UnstructuredMarkdownLoader(markdown_path1, mode=\"elements\")\n",
    "data1 = loader1.load()"
   ]
  },
  {
   "cell_type": "code",
   "execution_count": 135,
   "metadata": {},
   "outputs": [
    {
     "name": "stdout",
     "output_type": "stream",
     "text": [
      "----------------------------------------------------------------------------------------------------\n",
      "page_content='AWS::Events::Rule SageMakerPipelineParameter' metadata={'source': 'D:\\\\Documents\\\\GitHub\\\\knowledge_pal_assistant\\\\0_data\\\\aws-properties-events-rule-sagemakerpipelineparameter.md', 'last_modified': '2024-03-01T15:34:44', 'page_number': 1, 'languages': ['eng'], 'filetype': 'text/markdown', 'file_directory': 'D:\\\\Documents\\\\GitHub\\\\knowledge_pal_assistant\\\\0_data', 'filename': 'aws-properties-events-rule-sagemakerpipelineparameter.md', 'category': 'Title'}\n",
      "----------------------------------------------------------------------------------------------------\n",
      "page_content='Name/Value pair of a parameter to start execution of a SageMaker Model Building Pipeline.' metadata={'source': 'D:\\\\Documents\\\\GitHub\\\\knowledge_pal_assistant\\\\0_data\\\\aws-properties-events-rule-sagemakerpipelineparameter.md', 'last_modified': '2024-03-01T15:34:44', 'page_number': 1, 'languages': ['eng'], 'parent_id': '18cac090bc7d6773005ea8f089119336', 'filetype': 'text/markdown', 'file_directory': 'D:\\\\Documents\\\\GitHub\\\\knowledge_pal_assistant\\\\0_data', 'filename': 'aws-properties-events-rule-sagemakerpipelineparameter.md', 'category': 'NarrativeText'}\n",
      "----------------------------------------------------------------------------------------------------\n",
      "page_content='Syntax' metadata={'source': 'D:\\\\Documents\\\\GitHub\\\\knowledge_pal_assistant\\\\0_data\\\\aws-properties-events-rule-sagemakerpipelineparameter.md', 'last_modified': '2024-03-01T15:34:44', 'page_number': 1, 'languages': ['eng'], 'filetype': 'text/markdown', 'file_directory': 'D:\\\\Documents\\\\GitHub\\\\knowledge_pal_assistant\\\\0_data', 'filename': 'aws-properties-events-rule-sagemakerpipelineparameter.md', 'category': 'Title'}\n",
      "----------------------------------------------------------------------------------------------------\n",
      "page_content='To declare this entity in your AWS CloudFormation template, use the following syntax:' metadata={'source': 'D:\\\\Documents\\\\GitHub\\\\knowledge_pal_assistant\\\\0_data\\\\aws-properties-events-rule-sagemakerpipelineparameter.md', 'last_modified': '2024-03-01T15:34:44', 'page_number': 1, 'languages': ['eng'], 'parent_id': 'dc93879e3107703be39f22eda9bbaa9b', 'filetype': 'text/markdown', 'file_directory': 'D:\\\\Documents\\\\GitHub\\\\knowledge_pal_assistant\\\\0_data', 'filename': 'aws-properties-events-rule-sagemakerpipelineparameter.md', 'category': 'NarrativeText'}\n",
      "----------------------------------------------------------------------------------------------------\n",
      "page_content='JSON' metadata={'source': 'D:\\\\Documents\\\\GitHub\\\\knowledge_pal_assistant\\\\0_data\\\\aws-properties-events-rule-sagemakerpipelineparameter.md', 'last_modified': '2024-03-01T15:34:44', 'page_number': 1, 'languages': ['eng'], 'filetype': 'text/markdown', 'file_directory': 'D:\\\\Documents\\\\GitHub\\\\knowledge_pal_assistant\\\\0_data', 'filename': 'aws-properties-events-rule-sagemakerpipelineparameter.md', 'category': 'Title'}\n",
      "----------------------------------------------------------------------------------------------------\n",
      "page_content='{\\n  \"[Name](#cfn-events-rule-sagemakerpipelineparameter-name)\" : String,\\n  \"[Value](#cfn-events-rule-sagemakerpipelineparameter-value)\" : String\\n}' metadata={'source': 'D:\\\\Documents\\\\GitHub\\\\knowledge_pal_assistant\\\\0_data\\\\aws-properties-events-rule-sagemakerpipelineparameter.md', 'last_modified': '2024-03-01T15:34:44', 'page_number': 1, 'languages': ['eng'], 'filetype': 'text/markdown', 'file_directory': 'D:\\\\Documents\\\\GitHub\\\\knowledge_pal_assistant\\\\0_data', 'filename': 'aws-properties-events-rule-sagemakerpipelineparameter.md', 'category': 'Title'}\n",
      "----------------------------------------------------------------------------------------------------\n",
      "page_content='YAML' metadata={'source': 'D:\\\\Documents\\\\GitHub\\\\knowledge_pal_assistant\\\\0_data\\\\aws-properties-events-rule-sagemakerpipelineparameter.md', 'last_modified': '2024-03-01T15:34:44', 'page_number': 1, 'languages': ['eng'], 'filetype': 'text/markdown', 'file_directory': 'D:\\\\Documents\\\\GitHub\\\\knowledge_pal_assistant\\\\0_data', 'filename': 'aws-properties-events-rule-sagemakerpipelineparameter.md', 'category': 'Title'}\n",
      "----------------------------------------------------------------------------------------------------\n",
      "page_content='[Name](#cfn-events-rule-sagemakerpipelineparameter-name): String\\n  [Value](#cfn-events-rule-sagemakerpipelineparameter-value): String' metadata={'source': 'D:\\\\Documents\\\\GitHub\\\\knowledge_pal_assistant\\\\0_data\\\\aws-properties-events-rule-sagemakerpipelineparameter.md', 'last_modified': '2024-03-01T15:34:44', 'page_number': 1, 'languages': ['eng'], 'filetype': 'text/markdown', 'file_directory': 'D:\\\\Documents\\\\GitHub\\\\knowledge_pal_assistant\\\\0_data', 'filename': 'aws-properties-events-rule-sagemakerpipelineparameter.md', 'category': 'Title'}\n",
      "----------------------------------------------------------------------------------------------------\n",
      "page_content='Properties' metadata={'source': 'D:\\\\Documents\\\\GitHub\\\\knowledge_pal_assistant\\\\0_data\\\\aws-properties-events-rule-sagemakerpipelineparameter.md', 'last_modified': '2024-03-01T15:34:44', 'page_number': 1, 'languages': ['eng'], 'filetype': 'text/markdown', 'file_directory': 'D:\\\\Documents\\\\GitHub\\\\knowledge_pal_assistant\\\\0_data', 'filename': 'aws-properties-events-rule-sagemakerpipelineparameter.md', 'category': 'Title'}\n",
      "----------------------------------------------------------------------------------------------------\n",
      "page_content='Name of parameter to start execution of a SageMaker Model Building Pipeline.' metadata={'source': 'D:\\\\Documents\\\\GitHub\\\\knowledge_pal_assistant\\\\0_data\\\\aws-properties-events-rule-sagemakerpipelineparameter.md', 'last_modified': '2024-03-01T15:34:44', 'page_number': 1, 'languages': ['eng'], 'parent_id': 'ae43692b2a310b8ed2443d2b7d2a3e4c', 'filetype': 'text/markdown', 'file_directory': 'D:\\\\Documents\\\\GitHub\\\\knowledge_pal_assistant\\\\0_data', 'filename': 'aws-properties-events-rule-sagemakerpipelineparameter.md', 'category': 'NarrativeText'}\n",
      "----------------------------------------------------------------------------------------------------\n",
      "page_content='No interruption' metadata={'source': 'D:\\\\Documents\\\\GitHub\\\\knowledge_pal_assistant\\\\0_data\\\\aws-properties-events-rule-sagemakerpipelineparameter.md', 'last_modified': '2024-03-01T15:34:44', 'page_number': 1, 'languages': ['eng'], 'filetype': 'text/markdown', 'file_directory': 'D:\\\\Documents\\\\GitHub\\\\knowledge_pal_assistant\\\\0_data', 'filename': 'aws-properties-events-rule-sagemakerpipelineparameter.md', 'category': 'Title'}\n",
      "----------------------------------------------------------------------------------------------------\n",
      "page_content='Value of parameter to start execution of a SageMaker Model Building Pipeline.' metadata={'source': 'D:\\\\Documents\\\\GitHub\\\\knowledge_pal_assistant\\\\0_data\\\\aws-properties-events-rule-sagemakerpipelineparameter.md', 'last_modified': '2024-03-01T15:34:44', 'page_number': 1, 'languages': ['eng'], 'parent_id': '62282985b2ca638fa3397d4f6b292fdc', 'filetype': 'text/markdown', 'file_directory': 'D:\\\\Documents\\\\GitHub\\\\knowledge_pal_assistant\\\\0_data', 'filename': 'aws-properties-events-rule-sagemakerpipelineparameter.md', 'category': 'NarrativeText'}\n",
      "----------------------------------------------------------------------------------------------------\n",
      "page_content='No interruption' metadata={'source': 'D:\\\\Documents\\\\GitHub\\\\knowledge_pal_assistant\\\\0_data\\\\aws-properties-events-rule-sagemakerpipelineparameter.md', 'last_modified': '2024-03-01T15:34:44', 'page_number': 1, 'languages': ['eng'], 'filetype': 'text/markdown', 'file_directory': 'D:\\\\Documents\\\\GitHub\\\\knowledge_pal_assistant\\\\0_data', 'filename': 'aws-properties-events-rule-sagemakerpipelineparameter.md', 'category': 'Title'}\n"
     ]
    }
   ],
   "source": [
    "for d in data1:\n",
    "    print(\"-\"*100)\n",
    "    print(d)"
   ]
  },
  {
   "cell_type": "markdown",
   "metadata": {},
   "source": [
    "## Split Markdown on custom tags"
   ]
  },
  {
   "cell_type": "code",
   "execution_count": 136,
   "metadata": {},
   "outputs": [],
   "source": [
    "from langchain_text_splitters import MarkdownHeaderTextSplitter\n",
    "from langchain.document_loaders import TextLoader\n",
    "from langchain.text_splitter import MarkdownTextSplitter"
   ]
  },
  {
   "cell_type": "code",
   "execution_count": 137,
   "metadata": {},
   "outputs": [],
   "source": [
    "# just ingest the Markdown file raw\n",
    "data2 = TextLoader(markdown_path1).load()"
   ]
  },
  {
   "cell_type": "code",
   "execution_count": 138,
   "metadata": {},
   "outputs": [
    {
     "data": {
      "text/plain": [
       "[Document(page_content='# AWS::Events::Rule SageMakerPipelineParameter<a name=\"aws-properties-events-rule-sagemakerpipelineparameter\"></a>  \\nName/Value pair of a parameter to start execution of a SageMaker Model Building Pipeline\\\\.', metadata={'Header 1': 'AWS::Events::Rule SageMakerPipelineParameter<a name=\"aws-properties-events-rule-sagemakerpipelineparameter\"></a>'}),\n",
       " Document(page_content='## Syntax<a name=\"aws-properties-events-rule-sagemakerpipelineparameter-syntax\"></a>  \\nTo declare this entity in your AWS CloudFormation template, use the following syntax:  \\n### JSON<a name=\"aws-properties-events-rule-sagemakerpipelineparameter-syntax.json\"></a>  \\n```\\n{\\n\"[Name](#cfn-events-rule-sagemakerpipelineparameter-name)\" : String,\\n\"[Value](#cfn-events-rule-sagemakerpipelineparameter-value)\" : String\\n}\\n```  \\n### YAML<a name=\"aws-properties-events-rule-sagemakerpipelineparameter-syntax.yaml\"></a>  \\n```\\n[Name](#cfn-events-rule-sagemakerpipelineparameter-name): String\\n[Value](#cfn-events-rule-sagemakerpipelineparameter-value): String\\n```', metadata={'Header 1': 'AWS::Events::Rule SageMakerPipelineParameter<a name=\"aws-properties-events-rule-sagemakerpipelineparameter\"></a>', 'Header 2': 'Syntax<a name=\"aws-properties-events-rule-sagemakerpipelineparameter-syntax\"></a>'}),\n",
       " Document(page_content='## Properties<a name=\"aws-properties-events-rule-sagemakerpipelineparameter-properties\"></a>  \\n`Name`  <a name=\"cfn-events-rule-sagemakerpipelineparameter-name\"></a>\\nName of parameter to start execution of a SageMaker Model Building Pipeline\\\\.\\n*Required*: Yes\\n*Type*: String\\n*Minimum*: `1`\\n*Maximum*: `256`\\n*Pattern*: `^[a-zA-Z0-9](-*[a-zA-Z0-9])*$`\\n*Update requires*: [No interruption](https://docs.aws.amazon.com/AWSCloudFormation/latest/UserGuide/using-cfn-updating-stacks-update-behaviors.html#update-no-interrupt)  \\n`Value`  <a name=\"cfn-events-rule-sagemakerpipelineparameter-value\"></a>\\nValue of parameter to start execution of a SageMaker Model Building Pipeline\\\\.\\n*Required*: Yes\\n*Type*: String\\n*Maximum*: `1024`\\n*Update requires*: [No interruption](https://docs.aws.amazon.com/AWSCloudFormation/latest/UserGuide/using-cfn-updating-stacks-update-behaviors.html#update-no-interrupt)', metadata={'Header 1': 'AWS::Events::Rule SageMakerPipelineParameter<a name=\"aws-properties-events-rule-sagemakerpipelineparameter\"></a>', 'Header 2': 'Properties<a name=\"aws-properties-events-rule-sagemakerpipelineparameter-properties\"></a>'})]"
      ]
     },
     "execution_count": 138,
     "metadata": {},
     "output_type": "execute_result"
    }
   ],
   "source": [
    "headers_to_split_on = [(\"#\", \"Header 1\"), (\"##\", \"Header 2\")]\n",
    "\n",
    "markdown_splitter = MarkdownHeaderTextSplitter(headers_to_split_on=headers_to_split_on, strip_headers = False)\n",
    "md_header_splits = markdown_splitter.split_text(str(data2[0].page_content))\n",
    "md_header_splits"
   ]
  },
  {
   "cell_type": "code",
   "execution_count": 139,
   "metadata": {},
   "outputs": [
    {
     "name": "stdout",
     "output_type": "stream",
     "text": [
      "----------------------------------------------------------------------------------------------------\n",
      "page_content='# AWS::Events::Rule SageMakerPipelineParameter<a name=\"aws-properties-events-rule-sagemakerpipelineparameter\"></a>  \\nName/Value pair of a parameter to start execution of a SageMaker Model Building Pipeline\\\\.' metadata={'Header 1': 'AWS::Events::Rule SageMakerPipelineParameter<a name=\"aws-properties-events-rule-sagemakerpipelineparameter\"></a>'}\n",
      "----------------------------------------------------------------------------------------------------\n",
      "page_content='## Syntax<a name=\"aws-properties-events-rule-sagemakerpipelineparameter-syntax\"></a>  \\nTo declare this entity in your AWS CloudFormation template, use the following syntax:  \\n### JSON<a name=\"aws-properties-events-rule-sagemakerpipelineparameter-syntax.json\"></a>  \\n```\\n{\\n\"[Name](#cfn-events-rule-sagemakerpipelineparameter-name)\" : String,\\n\"[Value](#cfn-events-rule-sagemakerpipelineparameter-value)\" : String\\n}\\n```  \\n### YAML<a name=\"aws-properties-events-rule-sagemakerpipelineparameter-syntax.yaml\"></a>  \\n```\\n[Name](#cfn-events-rule-sagemakerpipelineparameter-name): String\\n[Value](#cfn-events-rule-sagemakerpipelineparameter-value): String\\n```' metadata={'Header 1': 'AWS::Events::Rule SageMakerPipelineParameter<a name=\"aws-properties-events-rule-sagemakerpipelineparameter\"></a>', 'Header 2': 'Syntax<a name=\"aws-properties-events-rule-sagemakerpipelineparameter-syntax\"></a>'}\n",
      "----------------------------------------------------------------------------------------------------\n",
      "page_content='## Properties<a name=\"aws-properties-events-rule-sagemakerpipelineparameter-properties\"></a>  \\n`Name`  <a name=\"cfn-events-rule-sagemakerpipelineparameter-name\"></a>\\nName of parameter to start execution of a SageMaker Model Building Pipeline\\\\.\\n*Required*: Yes\\n*Type*: String\\n*Minimum*: `1`\\n*Maximum*: `256`\\n*Pattern*: `^[a-zA-Z0-9](-*[a-zA-Z0-9])*$`\\n*Update requires*: [No interruption](https://docs.aws.amazon.com/AWSCloudFormation/latest/UserGuide/using-cfn-updating-stacks-update-behaviors.html#update-no-interrupt)  \\n`Value`  <a name=\"cfn-events-rule-sagemakerpipelineparameter-value\"></a>\\nValue of parameter to start execution of a SageMaker Model Building Pipeline\\\\.\\n*Required*: Yes\\n*Type*: String\\n*Maximum*: `1024`\\n*Update requires*: [No interruption](https://docs.aws.amazon.com/AWSCloudFormation/latest/UserGuide/using-cfn-updating-stacks-update-behaviors.html#update-no-interrupt)' metadata={'Header 1': 'AWS::Events::Rule SageMakerPipelineParameter<a name=\"aws-properties-events-rule-sagemakerpipelineparameter\"></a>', 'Header 2': 'Properties<a name=\"aws-properties-events-rule-sagemakerpipelineparameter-properties\"></a>'}\n"
     ]
    }
   ],
   "source": [
    "for d in md_header_splits:\n",
    "    print(\"-\"*100)\n",
    "    print(d)"
   ]
  },
  {
   "cell_type": "markdown",
   "metadata": {},
   "source": [
    "---"
   ]
  },
  {
   "cell_type": "code",
   "execution_count": 140,
   "metadata": {},
   "outputs": [],
   "source": [
    "markdown_path2 = \"D:\\\\Documents\\\\GitHub\\\\knowledge_pal_assistant\\\\0_data\\\\sagemaker-controls.md\"\n",
    "data3 = TextLoader(markdown_path2).load()"
   ]
  },
  {
   "cell_type": "code",
   "execution_count": 141,
   "metadata": {},
   "outputs": [],
   "source": [
    "headers_to_split_on = [(\"#\", \"Header 1\"), (\"##\", \"Header 2\")]\n",
    "\n",
    "markdown_splitter = MarkdownHeaderTextSplitter(headers_to_split_on=headers_to_split_on, strip_headers = False)\n",
    "md_header_splits = markdown_splitter.split_text(str(data3[0].page_content))\n"
   ]
  },
  {
   "cell_type": "code",
   "execution_count": 142,
   "metadata": {},
   "outputs": [
    {
     "name": "stdout",
     "output_type": "stream",
     "text": [
      "----------------------------------------------------------------------------------------------------\n",
      "page_content='# Amazon SageMaker controls<a name=\"sagemaker-controls\"></a>  \\nThese controls are related to SageMaker resources\\\\.' metadata={'Header 1': 'Amazon SageMaker controls<a name=\"sagemaker-controls\"></a>'}\n",
      "----------------------------------------------------------------------------------------------------\n",
      "page_content='## \\\\[SageMaker\\\\.1\\\\] Amazon SageMaker notebook instances should not have direct internet access<a name=\"sagemaker-1\"></a>  \\n**Related requirements:** PCI DSS v3\\\\.2\\\\.1/1\\\\.2\\\\.1, PCI DSS v3\\\\.2\\\\.1/1\\\\.3\\\\.1, PCI DSS v3\\\\.2\\\\.1/1\\\\.3\\\\.2, PCI DSS v3\\\\.2\\\\.1/1\\\\.3\\\\.4, PCI DSS v3\\\\.2\\\\.1/1\\\\.3\\\\.6, NIST\\\\.800\\\\-53\\\\.r5 AC\\\\-21, NIST\\\\.800\\\\-53\\\\.r5 AC\\\\-3, NIST\\\\.800\\\\-53\\\\.r5 AC\\\\-3\\\\(7\\\\), NIST\\\\.800\\\\-53\\\\.r5 AC\\\\-4, NIST\\\\.800\\\\-53\\\\.r5 AC\\\\-4\\\\(21\\\\), NIST\\\\.800\\\\-53\\\\.r5 AC\\\\-6, NIST\\\\.800\\\\-53\\\\.r5 SC\\\\-7, NIST\\\\.800\\\\-53\\\\.r5 SC\\\\-7\\\\(11\\\\), NIST\\\\.800\\\\-53\\\\.r5 SC\\\\-7\\\\(16\\\\), NIST\\\\.800\\\\-53\\\\.r5 SC\\\\-7\\\\(20\\\\), NIST\\\\.800\\\\-53\\\\.r5 SC\\\\-7\\\\(21\\\\), NIST\\\\.800\\\\-53\\\\.r5 SC\\\\-7\\\\(3\\\\), NIST\\\\.800\\\\-53\\\\.r5 SC\\\\-7\\\\(4\\\\), NIST\\\\.800\\\\-53\\\\.r5 SC\\\\-7\\\\(9\\\\)  \\n**Category:** Protect > Secure network configuration  \\n**Severity:** High  \\n**Resource type:** `AWS::SageMaker::NotebookInstance`  \\n**AWS Config rule:** [https://docs.aws.amazon.com/config/latest/developerguide/sagemaker-notebook-no-direct-internet-access.html](https://docs.aws.amazon.com/config/latest/developerguide/sagemaker-notebook-no-direct-internet-access.html)  \\n**Schedule type:** Periodic  \\n**Parameters:** None  \\nThis control checks whether direct internet access is disabled for an SageMaker notebook instance\\\\. To do this, it checks whether the `DirectInternetAccess` field is disabled for the notebook instance\\\\.  \\nIf you configure your SageMaker instance without a VPC, then by default direct internet access is enabled on your instance\\\\. You should configure your instance with a VPC and change the default setting to **Disable—Access the internet through a VPC**\\\\.  \\nTo train or host models from a notebook, you need internet access\\\\. To enable internet access, make sure that your VPC has a NAT gateway and your security group allows outbound connections\\\\. To learn more about how to connect a notebook instance to resources in a VPC, see [Connect a notebook instance to resources in a VPC](https://docs.aws.amazon.com/sagemaker/latest/dg/appendix-notebook-and-internet-access.html) in the *Amazon SageMaker Developer Guide*\\\\.  \\nYou should also ensure that access to your SageMaker configuration is limited to only authorized users\\\\. Restrict users\\' IAM permissions to modify SageMaker settings and resources\\\\.  \\n**Note**\\nThis control is not supported in the following Regions:\\nAfrica \\\\(Cape Town\\\\)\\nChina \\\\(Beijing\\\\)\\nChina \\\\(Ningxia\\\\)\\nEurope \\\\(Milan\\\\)\\nMiddle East \\\\(UAE\\\\)\\nAWS GovCloud \\\\(US\\\\-East\\\\)  \\n### Remediation<a name=\"sagemaker-1-remediation\"></a>  \\nNote that you cannot change the internet access setting after a notebook instance is created\\\\. It must be stopped, deleted, and recreated\\\\.  \\n**To configure an SageMaker notebook instance to deny direct internet access**  \\n1. Open the SageMaker console at [https://console.aws.amazon.com/sagemaker/](https://console.aws.amazon.com/sagemaker/)  \\n1. Navigate to **Notebook instances**\\\\.  \\n1. Delete the instance that has direct internet access enabled\\\\. Choose the instance, choose **Actions**, then choose stop\\\\.  \\nAfter the instance is stopped, choose **Actions**, then choose **delete**\\\\.  \\n1. Choose **Create notebook instance**\\\\. Provide the configuration details\\\\.  \\n1. Expand the network section, then choose a VPC, subnet, and security group\\\\. Under **Direct internet access**, choose **Disable—Access the internet through a VPC**\\\\.  \\n1. Choose **Create notebook instance**\\\\.  \\nFor more information, see [Connect a notebook instance to resources in a VPC](https://docs.aws.amazon.com/sagemaker/latest/dg/appendix-notebook-and-internet-access.html) in the *Amazon SageMaker Developer Guide*\\\\.' metadata={'Header 1': 'Amazon SageMaker controls<a name=\"sagemaker-controls\"></a>', 'Header 2': '\\\\[SageMaker\\\\.1\\\\] Amazon SageMaker notebook instances should not have direct internet access<a name=\"sagemaker-1\"></a>'}\n",
      "----------------------------------------------------------------------------------------------------\n",
      "page_content='## \\\\[SageMaker\\\\.2\\\\] SageMaker notebook instances should be launched in a custom VPC<a name=\"sagemaker-2\"></a>  \\n**Related requirements:** NIST\\\\.800\\\\-53\\\\.r5 AC\\\\-21, NIST\\\\.800\\\\-53\\\\.r5 AC\\\\-3, NIST\\\\.800\\\\-53\\\\.r5 AC\\\\-3\\\\(7\\\\), NIST\\\\.800\\\\-53\\\\.r5 AC\\\\-4, NIST\\\\.800\\\\-53\\\\.r5 AC\\\\-4\\\\(21\\\\), NIST\\\\.800\\\\-53\\\\.r5 AC\\\\-6, NIST\\\\.800\\\\-53\\\\.r5 SC\\\\-7, NIST\\\\.800\\\\-53\\\\.r5 SC\\\\-7\\\\(11\\\\), NIST\\\\.800\\\\-53\\\\.r5 SC\\\\-7\\\\(16\\\\), NIST\\\\.800\\\\-53\\\\.r5 SC\\\\-7\\\\(20\\\\), NIST\\\\.800\\\\-53\\\\.r5 SC\\\\-7\\\\(21\\\\), NIST\\\\.800\\\\-53\\\\.r5 SC\\\\-7\\\\(3\\\\), NIST\\\\.800\\\\-53\\\\.r5 SC\\\\-7\\\\(4\\\\), NIST\\\\.800\\\\-53\\\\.r5 SC\\\\-7\\\\(9\\\\)  \\n**Category:** Protect > Secure network configuration > Resources within VPC  \\n**Severity:** High  \\n**Resource type:** `AWS::SageMaker::NotebookInstance`  \\n**AWS Config rule:** `sagemaker-notebook-instance-inside-vpc`  \\n**Schedule type:** Change triggered  \\n**Parameters:** None  \\nThis control checks if an Amazon SageMaker notebook instance is launched within a custom virtual private cloud \\\\(VPC\\\\)\\\\. This control fails if a SageMaker notebook instance is not launched within a custom VPC or if it is launched in the SageMaker service VPC\\\\.  \\nSubnets are a range of IP addresses within a VPC\\\\. We recommend keeping your resources inside a custom VPC whenever possible to ensure secure network protection of your infrastructure\\\\. An Amazon VPC is a virtual network dedicated to your AWS account\\\\. With an Amazon VPC, you can control the network access and internet connectivity of your SageMaker Studio and notebook instances\\\\.  \\n**Note**\\nThis control is not supported in the following Regions:\\nAsia Pacific \\\\(Jakarta\\\\)\\nChina \\\\(Beijing\\\\)\\nChina \\\\(Ningxia\\\\)\\nMiddle East \\\\(UAE\\\\)\\nAWS GovCloud \\\\(US\\\\-East\\\\)\\nAWS GovCloud \\\\(US\\\\-West\\\\)  \\n### Remediation<a name=\"sagemaker-2-remediation\"></a>  \\nYou can\\'t change the VPC setting after creating a notebook instance\\\\. Instead, you can delete and recreate the instance\\\\. For instructions on deleting and creating a notebook instance, see [Get started with Amazon SageMaker notebook instances](https://docs.aws.amazon.com/sagemaker/latest/dg/gs-console.html) in the *Amazon SageMaker Developer Guide*\\\\.' metadata={'Header 1': 'Amazon SageMaker controls<a name=\"sagemaker-controls\"></a>', 'Header 2': '\\\\[SageMaker\\\\.2\\\\] SageMaker notebook instances should be launched in a custom VPC<a name=\"sagemaker-2\"></a>'}\n",
      "----------------------------------------------------------------------------------------------------\n",
      "page_content='## \\\\[SageMaker\\\\.3\\\\] Users should not have root access to SageMaker notebook instances<a name=\"sagemaker-3\"></a>  \\n**Related requirements:** NIST\\\\.800\\\\-53\\\\.r5 AC\\\\-2\\\\(1\\\\), NIST\\\\.800\\\\-53\\\\.r5 AC\\\\-3\\\\(15\\\\), NIST\\\\.800\\\\-53\\\\.r5 AC\\\\-3\\\\(7\\\\), NIST\\\\.800\\\\-53\\\\.r5 AC\\\\-6, NIST\\\\.800\\\\-53\\\\.r5 AC\\\\-6\\\\(10\\\\), NIST\\\\.800\\\\-53\\\\.r5 AC\\\\-6\\\\(2\\\\)  \\n**Category:** Protect > Secure access management > Root user access restrictions  \\n**Severity:** High  \\n**Resource type:** `AWS::SageMaker::NotebookInstance`  \\n**AWS Config rule:** `sagemaker-notebook-instance-root-access-check`  \\n**Schedule type:** Change triggered  \\n**Parameters:** None  \\nThis control checks whether root access is turned on for an Amazon SageMaker notebook instance\\\\. The control fails if root access is turned on for a SageMaker notebook instance\\\\.  \\nIn adherence to the principal of least privilege, it is a recommended security best practice to restrict root access to instance resources to avoid unintentionally over provisioning permissions\\\\.  \\n**Note**\\nThis control is not supported in the following Regions:\\nAsia Pacific \\\\(Jakarta\\\\)\\nChina \\\\(Beijing\\\\)\\nChina \\\\(Ningxia\\\\)\\nMiddle East \\\\(UAE\\\\)\\nAWS GovCloud \\\\(US\\\\-East\\\\)\\nAWS GovCloud \\\\(US\\\\-West\\\\)  \\n### Remediation<a name=\"sagemaker-3-remediation\"></a>  \\nTo restrict root access to SageMaker notebook instances, see [Control root access to a SageMaker notebook instance](https://docs.aws.amazon.com/sagemaker/latest/dg/nbi-root-access.html) in the *Amazon SageMaker Developer Guide*\\\\.' metadata={'Header 1': 'Amazon SageMaker controls<a name=\"sagemaker-controls\"></a>', 'Header 2': '\\\\[SageMaker\\\\.3\\\\] Users should not have root access to SageMaker notebook instances<a name=\"sagemaker-3\"></a>'}\n"
     ]
    }
   ],
   "source": [
    "for d in md_header_splits:\n",
    "    print(\"-\"*100)\n",
    "    print(d)"
   ]
  },
  {
   "cell_type": "markdown",
   "metadata": {},
   "source": [
    "---\n",
    "### Test directory loader to speed up data consumption"
   ]
  },
  {
   "cell_type": "code",
   "execution_count": 143,
   "metadata": {},
   "outputs": [],
   "source": [
    "from langchain_community.document_loaders import DirectoryLoader"
   ]
  },
  {
   "cell_type": "code",
   "execution_count": 144,
   "metadata": {},
   "outputs": [
    {
     "name": "stderr",
     "output_type": "stream",
     "text": [
      "100%|██████████| 336/336 [00:00<00:00, 6224.51it/s]\n"
     ]
    }
   ],
   "source": [
    "markdown_path2 = \"D:\\\\Documents\\GitHub\\\\knowledge_pal_assistant\\\\0_data\"\n",
    "data4 = DirectoryLoader(markdown_path2, glob = \"*.md\", recursive = True,  loader_cls = TextLoader,use_multithreading = True, show_progress = True).load()"
   ]
  },
  {
   "cell_type": "code",
   "execution_count": 145,
   "metadata": {},
   "outputs": [
    {
     "data": {
      "text/plain": [
       "'D:\\\\Documents\\\\GitHub\\\\knowledge_pal_assistant\\\\0_data\\\\amazon-sagemaker-toolkits.md'"
      ]
     },
     "execution_count": 145,
     "metadata": {},
     "output_type": "execute_result"
    }
   ],
   "source": [
    "data4[0].metadata[\"source\"]"
   ]
  },
  {
   "cell_type": "code",
   "execution_count": 146,
   "metadata": {},
   "outputs": [],
   "source": [
    "# craeate a hashmap of documents to after add the source to each one of the chunks\n",
    "final_data = {x.metadata[\"source\"]: x.page_content for x in data4}"
   ]
  },
  {
   "cell_type": "code",
   "execution_count": 147,
   "metadata": {},
   "outputs": [
    {
     "data": {
      "text/plain": [
       "'# Using the SageMaker Training and Inference Toolkits<a name=\"amazon-sagemaker-toolkits\"></a>\\n\\nThe [SageMaker Training](https://github.com/aws/sagemaker-training-toolkit) and [SageMaker Inference](https://github.com/aws/sagemaker-inference-toolkit) toolkits implement the functionality that you need to adapt your containers to run scripts, train algorithms, and deploy models on SageMaker\\\\. When installed, the library defines the following for users:\\n+ The locations for storing code and other resources\\\\. \\n+ The entry point that contains the code to run when the container is started\\\\. Your Dockerfile must copy the code that needs to be run into the location expected by a container that is compatible with SageMaker\\\\. \\n+ Other information that a container needs to manage deployments for training and inference\\\\. \\n\\n## SageMaker Toolkits Containers Structure<a name=\"sagemaker-toolkits-structure\"></a>\\n\\nWhen SageMaker trains a model, it creates the following file folder structure in the container\\'s `/opt/ml` directory\\\\.\\n\\n```\\n/opt/ml\\n├── input\\n│   ├── config\\n│   │   ├── hyperparameters.json\\n│   │   └── resourceConfig.json\\n│   └── data\\n│       └── <channel_name>\\n│           └── <input data>\\n├── model\\n│\\n├── code\\n│\\n├── output\\n│\\n└── failure\\n```\\n\\nWhen you run a model *training* job, the SageMaker container uses the `/opt/ml/input/` directory, which contains the JSON files that configure the hyperparameters for the algorithm and the network layout used for distributed training\\\\. The `/opt/ml/input/` directory also contains files that specify the channels through which SageMaker accesses the data, which is stored in Amazon Simple Storage Service \\\\(Amazon S3\\\\)\\\\. The SageMaker containers library places the scripts that the container will run in the `/opt/ml/code/` directory\\\\. Your script should write the model generated by your algorithm to the `/opt/ml/model/` directory\\\\. For more information, see [Use Your Own Training Algorithms](your-algorithms-training-algo.md)\\\\.\\n\\nWhen you *host* a trained model on SageMaker to make inferences, you deploy the model to an HTTP endpoint\\\\. The model makes real\\\\-time predictions in response to inference requests\\\\. The container must contain a serving stack to process these requests\\\\.\\n\\nIn a hosting or batch transform container, the model files are located in the same folder to which they were written during training\\\\.\\n\\n```\\n/opt/ml/model\\n│\\n└── <model files>\\n```\\n\\nFor more information, see [Use your own inference code](your-algorithms-inference-main.md)\\\\.\\n\\n## Single Versus Multiple Containers<a name=\"sagemaker-toolkits-separate-images\"></a>\\n\\nYou can either provide separate Docker images for the training algorithm and inference code or you can use a single Docker image for both\\\\. When creating Docker images for use with SageMaker, consider the following:\\n+ Providing two Docker images can increase storage requirements and cost because common libraries might be duplicated\\\\.\\n+ In general, smaller containers start faster for both training and hosting\\\\. Models train faster and the hosting service can react to increases in traffic by automatically scaling more quickly\\\\.\\n+ You might be able to write an inference container that is significantly smaller than the training container\\\\. This is especially common when you use GPUs for training, but your inference code is optimized for CPUs\\\\.\\n+ SageMaker requires that Docker containers run without privileged access\\\\.\\n+ Both Docker containers that you build and those provided by SageMaker can send messages to the `Stdout` and `Stderr` files\\\\. SageMaker sends these messages to Amazon CloudWatch logs in your AWS account\\\\.\\n\\nFor more information about how to create SageMaker containers and how scripts are executed inside them, see the [SageMaker Training Toolkit](https://github.com/aws/sagemaker-training-toolkit) and [SageMaker Inference Toolkit](https://github.com/aws/sagemaker-inference-toolkit) repositories on GitHub\\\\. They also provide lists of important environmental variables and the environmental variables provided by SageMaker containers\\\\.'"
      ]
     },
     "execution_count": 147,
     "metadata": {},
     "output_type": "execute_result"
    }
   ],
   "source": [
    "final_data[data4[0].metadata[\"source\"]]"
   ]
  },
  {
   "cell_type": "code",
   "execution_count": 148,
   "metadata": {},
   "outputs": [],
   "source": [
    "headers_to_split_on = [(\"#\", \"Header 1\"), (\"##\", \"Header 2\")]\n",
    "\n",
    "markdown_splitter = MarkdownHeaderTextSplitter(headers_to_split_on=headers_to_split_on, strip_headers = False)"
   ]
  },
  {
   "cell_type": "code",
   "execution_count": null,
   "metadata": {},
   "outputs": [],
   "source": [
    "from langchain.document_transformers import "
   ]
  },
  {
   "cell_type": "code",
   "execution_count": 160,
   "metadata": {},
   "outputs": [],
   "source": [
    "md_header_splits = []\n",
    "\n",
    "for source, docs in final_data.items():\n",
    "    md_header_splits.extend([{\"page_content\": chunk.page_content + \"\\n \\'data source =  {0}\\'\".format(source), \"metadata\":chunk.metadata} for chunk in markdown_splitter.split_text(docs)])\n",
    "    break"
   ]
  },
  {
   "cell_type": "code",
   "execution_count": 162,
   "metadata": {},
   "outputs": [
    {
     "data": {
      "text/plain": [
       "{'page_content': '# Using the SageMaker Training and Inference Toolkits<a name=\"amazon-sagemaker-toolkits\"></a>  \\nThe [SageMaker Training](https://github.com/aws/sagemaker-training-toolkit) and [SageMaker Inference](https://github.com/aws/sagemaker-inference-toolkit) toolkits implement the functionality that you need to adapt your containers to run scripts, train algorithms, and deploy models on SageMaker\\\\. When installed, the library defines the following for users:\\n+ The locations for storing code and other resources\\\\.\\n+ The entry point that contains the code to run when the container is started\\\\. Your Dockerfile must copy the code that needs to be run into the location expected by a container that is compatible with SageMaker\\\\.\\n+ Other information that a container needs to manage deployments for training and inference\\\\.\\n \\'data source =  D:\\\\Documents\\\\GitHub\\\\knowledge_pal_assistant\\\\0_data\\\\amazon-sagemaker-toolkits.md\\'',\n",
       " 'metadata': {'Header 1': 'Using the SageMaker Training and Inference Toolkits<a name=\"amazon-sagemaker-toolkits\"></a>'}}"
      ]
     },
     "execution_count": 162,
     "metadata": {},
     "output_type": "execute_result"
    }
   ],
   "source": [
    "md_header_splits[0]"
   ]
  },
  {
   "cell_type": "code",
   "execution_count": null,
   "metadata": {},
   "outputs": [],
   "source": []
  }
 ],
 "metadata": {
  "kernelspec": {
   "display_name": "loka_test",
   "language": "python",
   "name": "python3"
  },
  "language_info": {
   "codemirror_mode": {
    "name": "ipython",
    "version": 3
   },
   "file_extension": ".py",
   "mimetype": "text/x-python",
   "name": "python",
   "nbconvert_exporter": "python",
   "pygments_lexer": "ipython3",
   "version": "3.8.1"
  }
 },
 "nbformat": 4,
 "nbformat_minor": 2
}
